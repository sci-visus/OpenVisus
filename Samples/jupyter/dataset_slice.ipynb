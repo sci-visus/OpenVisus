{
 "cells": [
  {
   "cell_type": "code",
   "execution_count": 1,
   "metadata": {},
   "outputs": [
    {
     "name": "stdout",
     "output_type": "stream",
     "text": [
      "Requirement already satisfied: ipywidgets in c:\\python38\\lib\\site-packages (7.5.1)\n",
      "Requirement already satisfied: nbformat>=4.2.0 in c:\\python38\\lib\\site-packages (from ipywidgets) (5.0.7)\n",
      "Requirement already satisfied: widgetsnbextension~=3.5.0 in c:\\python38\\lib\\site-packages (from ipywidgets) (3.5.1)\n",
      "Requirement already satisfied: ipython>=4.0.0; python_version >= \"3.3\" in c:\\python38\\lib\\site-packages (from ipywidgets) (7.18.1)\n",
      "Requirement already satisfied: ipykernel>=4.5.1 in c:\\python38\\lib\\site-packages (from ipywidgets) (5.3.4)\n",
      "Requirement already satisfied: traitlets>=4.3.1 in c:\\python38\\lib\\site-packages (from ipywidgets) (5.0.4)\n",
      "Requirement already satisfied: jupyter-core in c:\\python38\\lib\\site-packages (from nbformat>=4.2.0->ipywidgets) (4.6.3)\n",
      "Requirement already satisfied: ipython-genutils in c:\\python38\\lib\\site-packages (from nbformat>=4.2.0->ipywidgets) (0.2.0)\n",
      "Requirement already satisfied: jsonschema!=2.5.0,>=2.4 in c:\\python38\\lib\\site-packages (from nbformat>=4.2.0->ipywidgets) (3.2.0)\n",
      "Requirement already satisfied: notebook>=4.4.1 in c:\\python38\\lib\\site-packages (from widgetsnbextension~=3.5.0->ipywidgets) (6.1.4)\n",
      "Requirement already satisfied: pickleshare in c:\\python38\\lib\\site-packages (from ipython>=4.0.0; python_version >= \"3.3\"->ipywidgets) (0.7.5)\n",
      "Requirement already satisfied: backcall in c:\\python38\\lib\\site-packages (from ipython>=4.0.0; python_version >= \"3.3\"->ipywidgets) (0.2.0)\n",
      "Requirement already satisfied: setuptools>=18.5 in c:\\python38\\lib\\site-packages (from ipython>=4.0.0; python_version >= \"3.3\"->ipywidgets) (49.2.1)\n",
      "Requirement already satisfied: colorama; sys_platform == \"win32\" in c:\\python38\\lib\\site-packages (from ipython>=4.0.0; python_version >= \"3.3\"->ipywidgets) (0.4.3)\n",
      "Requirement already satisfied: jedi>=0.10 in c:\\python38\\lib\\site-packages (from ipython>=4.0.0; python_version >= \"3.3\"->ipywidgets) (0.17.2)\n",
      "Requirement already satisfied: decorator in c:\\python38\\lib\\site-packages (from ipython>=4.0.0; python_version >= \"3.3\"->ipywidgets) (4.4.2)\n",
      "Requirement already satisfied: pygments in c:\\python38\\lib\\site-packages (from ipython>=4.0.0; python_version >= \"3.3\"->ipywidgets) (2.7.1)\n",
      "Requirement already satisfied: prompt-toolkit!=3.0.0,!=3.0.1,<3.1.0,>=2.0.0 in c:\\python38\\lib\\site-packages (from ipython>=4.0.0; python_version >= \"3.3\"->ipywidgets) (3.0.7)\n",
      "Requirement already satisfied: jupyter-client in c:\\python38\\lib\\site-packages (from ipykernel>=4.5.1->ipywidgets) (6.1.7)\n",
      "Requirement already satisfied: tornado>=4.2 in c:\\python38\\lib\\site-packages (from ipykernel>=4.5.1->ipywidgets) (6.0.4)\n",
      "Requirement already satisfied: pywin32>=1.0; sys_platform == \"win32\" in c:\\python38\\lib\\site-packages (from jupyter-core->nbformat>=4.2.0->ipywidgets) (228)\n",
      "Requirement already satisfied: pyrsistent>=0.14.0 in c:\\python38\\lib\\site-packages (from jsonschema!=2.5.0,>=2.4->nbformat>=4.2.0->ipywidgets) (0.17.3)\n",
      "Requirement already satisfied: attrs>=17.4.0 in c:\\python38\\lib\\site-packages (from jsonschema!=2.5.0,>=2.4->nbformat>=4.2.0->ipywidgets) (20.2.0)\n",
      "Requirement already satisfied: six>=1.11.0 in c:\\users\\scrgiorgio\\appdata\\roaming\\python\\python38\\site-packages (from jsonschema!=2.5.0,>=2.4->nbformat>=4.2.0->ipywidgets) (1.15.0)\n",
      "Requirement already satisfied: nbconvert in c:\\python38\\lib\\site-packages (from notebook>=4.4.1->widgetsnbextension~=3.5.0->ipywidgets) (6.0.6)\n",
      "Requirement already satisfied: Send2Trash in c:\\python38\\lib\\site-packages (from notebook>=4.4.1->widgetsnbextension~=3.5.0->ipywidgets) (1.5.0)\n",
      "Requirement already satisfied: pyzmq>=17 in c:\\python38\\lib\\site-packages (from notebook>=4.4.1->widgetsnbextension~=3.5.0->ipywidgets) (19.0.2)\n",
      "Requirement already satisfied: argon2-cffi in c:\\python38\\lib\\site-packages (from notebook>=4.4.1->widgetsnbextension~=3.5.0->ipywidgets) (20.1.0)\n",
      "Requirement already satisfied: terminado>=0.8.3 in c:\\python38\\lib\\site-packages (from notebook>=4.4.1->widgetsnbextension~=3.5.0->ipywidgets) (0.9.1)\n",
      "Requirement already satisfied: prometheus-client in c:\\python38\\lib\\site-packages (from notebook>=4.4.1->widgetsnbextension~=3.5.0->ipywidgets) (0.8.0)\n",
      "Requirement already satisfied: jinja2 in c:\\python38\\lib\\site-packages (from notebook>=4.4.1->widgetsnbextension~=3.5.0->ipywidgets) (2.11.2)\n",
      "Requirement already satisfied: parso<0.8.0,>=0.7.0 in c:\\python38\\lib\\site-packages (from jedi>=0.10->ipython>=4.0.0; python_version >= \"3.3\"->ipywidgets) (0.7.1)\n",
      "Requirement already satisfied: wcwidth in c:\\python38\\lib\\site-packages (from prompt-toolkit!=3.0.0,!=3.0.1,<3.1.0,>=2.0.0->ipython>=4.0.0; python_version >= \"3.3\"->ipywidgets) (0.2.5)\n",
      "Requirement already satisfied: python-dateutil>=2.1 in c:\\python38\\lib\\site-packages (from jupyter-client->ipykernel>=4.5.1->ipywidgets) (2.8.1)\n",
      "Requirement already satisfied: defusedxml in c:\\python38\\lib\\site-packages (from nbconvert->notebook>=4.4.1->widgetsnbextension~=3.5.0->ipywidgets) (0.6.0)\n",
      "Requirement already satisfied: nbclient<0.6.0,>=0.5.0 in c:\\python38\\lib\\site-packages (from nbconvert->notebook>=4.4.1->widgetsnbextension~=3.5.0->ipywidgets) (0.5.0)\n",
      "Requirement already satisfied: pandocfilters>=1.4.1 in c:\\python38\\lib\\site-packages (from nbconvert->notebook>=4.4.1->widgetsnbextension~=3.5.0->ipywidgets) (1.4.2)\n",
      "Requirement already satisfied: entrypoints>=0.2.2 in c:\\python38\\lib\\site-packages (from nbconvert->notebook>=4.4.1->widgetsnbextension~=3.5.0->ipywidgets) (0.3)\n",
      "Requirement already satisfied: mistune<2,>=0.8.1 in c:\\python38\\lib\\site-packages (from nbconvert->notebook>=4.4.1->widgetsnbextension~=3.5.0->ipywidgets) (0.8.4)\n",
      "Requirement already satisfied: testpath in c:\\python38\\lib\\site-packages (from nbconvert->notebook>=4.4.1->widgetsnbextension~=3.5.0->ipywidgets) (0.4.4)\n",
      "Requirement already satisfied: jupyterlab-pygments in c:\\python38\\lib\\site-packages (from nbconvert->notebook>=4.4.1->widgetsnbextension~=3.5.0->ipywidgets) (0.1.1)\n",
      "Requirement already satisfied: bleach in c:\\python38\\lib\\site-packages (from nbconvert->notebook>=4.4.1->widgetsnbextension~=3.5.0->ipywidgets) (3.2.1)\n",
      "Requirement already satisfied: cffi>=1.0.0 in c:\\python38\\lib\\site-packages (from argon2-cffi->notebook>=4.4.1->widgetsnbextension~=3.5.0->ipywidgets) (1.14.3)\n",
      "Requirement already satisfied: pywinpty>=0.5; os_name == \"nt\" in c:\\python38\\lib\\site-packages (from terminado>=0.8.3->notebook>=4.4.1->widgetsnbextension~=3.5.0->ipywidgets) (0.5.7)\n",
      "Requirement already satisfied: MarkupSafe>=0.23 in c:\\python38\\lib\\site-packages (from jinja2->notebook>=4.4.1->widgetsnbextension~=3.5.0->ipywidgets) (1.1.1)\n",
      "Requirement already satisfied: nest-asyncio in c:\\python38\\lib\\site-packages (from nbclient<0.6.0,>=0.5.0->nbconvert->notebook>=4.4.1->widgetsnbextension~=3.5.0->ipywidgets) (1.4.0)\n",
      "Requirement already satisfied: async-generator in c:\\python38\\lib\\site-packages (from nbclient<0.6.0,>=0.5.0->nbconvert->notebook>=4.4.1->widgetsnbextension~=3.5.0->ipywidgets) (1.10)\n",
      "Requirement already satisfied: webencodings in c:\\python38\\lib\\site-packages (from bleach->nbconvert->notebook>=4.4.1->widgetsnbextension~=3.5.0->ipywidgets) (0.5.1)\n",
      "Requirement already satisfied: packaging in c:\\python38\\lib\\site-packages (from bleach->nbconvert->notebook>=4.4.1->widgetsnbextension~=3.5.0->ipywidgets) (20.4)\n",
      "Requirement already satisfied: pycparser in c:\\python38\\lib\\site-packages (from cffi>=1.0.0->argon2-cffi->notebook>=4.4.1->widgetsnbextension~=3.5.0->ipywidgets) (2.20)\n",
      "Requirement already satisfied: pyparsing>=2.0.2 in c:\\python38\\lib\\site-packages (from packaging->bleach->nbconvert->notebook>=4.4.1->widgetsnbextension~=3.5.0->ipywidgets) (2.4.7)\n"
     ]
    },
    {
     "name": "stderr",
     "output_type": "stream",
     "text": [
      "WARNING: You are using pip version 20.2.3; however, version 20.3.3 is available.\n",
      "You should consider upgrading via the 'c:\\python38\\python.exe -m pip install --upgrade pip' command.\n"
     ]
    },
    {
     "name": "stdout",
     "output_type": "stream",
     "text": [
      "Requirement already satisfied: ipycanvas in c:\\python38\\lib\\site-packages (0.5.1)\n",
      "Requirement already satisfied: pillow>=6.0 in c:\\python38\\lib\\site-packages (from ipycanvas) (7.2.0)\n",
      "Requirement already satisfied: numpy in c:\\python38\\lib\\site-packages (from ipycanvas) (1.19.2)\n",
      "Requirement already satisfied: ipywidgets>=7.5.0 in c:\\python38\\lib\\site-packages (from ipycanvas) (7.5.1)\n",
      "Requirement already satisfied: widgetsnbextension~=3.5.0 in c:\\python38\\lib\\site-packages (from ipywidgets>=7.5.0->ipycanvas) (3.5.1)\n",
      "Requirement already satisfied: ipython>=4.0.0; python_version >= \"3.3\" in c:\\python38\\lib\\site-packages (from ipywidgets>=7.5.0->ipycanvas) (7.18.1)\n",
      "Requirement already satisfied: nbformat>=4.2.0 in c:\\python38\\lib\\site-packages (from ipywidgets>=7.5.0->ipycanvas) (5.0.7)\n",
      "Requirement already satisfied: ipykernel>=4.5.1 in c:\\python38\\lib\\site-packages (from ipywidgets>=7.5.0->ipycanvas) (5.3.4)\n",
      "Requirement already satisfied: traitlets>=4.3.1 in c:\\python38\\lib\\site-packages (from ipywidgets>=7.5.0->ipycanvas) (5.0.4)\n",
      "Requirement already satisfied: notebook>=4.4.1 in c:\\python38\\lib\\site-packages (from widgetsnbextension~=3.5.0->ipywidgets>=7.5.0->ipycanvas) (6.1.4)\n",
      "Requirement already satisfied: setuptools>=18.5 in c:\\python38\\lib\\site-packages (from ipython>=4.0.0; python_version >= \"3.3\"->ipywidgets>=7.5.0->ipycanvas) (49.2.1)\n",
      "Requirement already satisfied: jedi>=0.10 in c:\\python38\\lib\\site-packages (from ipython>=4.0.0; python_version >= \"3.3\"->ipywidgets>=7.5.0->ipycanvas) (0.17.2)\n",
      "Requirement already satisfied: pygments in c:\\python38\\lib\\site-packages (from ipython>=4.0.0; python_version >= \"3.3\"->ipywidgets>=7.5.0->ipycanvas) (2.7.1)\n",
      "Requirement already satisfied: pickleshare in c:\\python38\\lib\\site-packages (from ipython>=4.0.0; python_version >= \"3.3\"->ipywidgets>=7.5.0->ipycanvas) (0.7.5)\n",
      "Requirement already satisfied: backcall in c:\\python38\\lib\\site-packages (from ipython>=4.0.0; python_version >= \"3.3\"->ipywidgets>=7.5.0->ipycanvas) (0.2.0)\n",
      "Requirement already satisfied: colorama; sys_platform == \"win32\" in c:\\python38\\lib\\site-packages (from ipython>=4.0.0; python_version >= \"3.3\"->ipywidgets>=7.5.0->ipycanvas) (0.4.3)\n",
      "Requirement already satisfied: decorator in c:\\python38\\lib\\site-packages (from ipython>=4.0.0; python_version >= \"3.3\"->ipywidgets>=7.5.0->ipycanvas) (4.4.2)\n",
      "Requirement already satisfied: prompt-toolkit!=3.0.0,!=3.0.1,<3.1.0,>=2.0.0 in c:\\python38\\lib\\site-packages (from ipython>=4.0.0; python_version >= \"3.3\"->ipywidgets>=7.5.0->ipycanvas) (3.0.7)\n",
      "Requirement already satisfied: ipython-genutils in c:\\python38\\lib\\site-packages (from nbformat>=4.2.0->ipywidgets>=7.5.0->ipycanvas) (0.2.0)\n",
      "Requirement already satisfied: jsonschema!=2.5.0,>=2.4 in c:\\python38\\lib\\site-packages (from nbformat>=4.2.0->ipywidgets>=7.5.0->ipycanvas) (3.2.0)\n",
      "Requirement already satisfied: jupyter-core in c:\\python38\\lib\\site-packages (from nbformat>=4.2.0->ipywidgets>=7.5.0->ipycanvas) (4.6.3)\n",
      "Requirement already satisfied: jupyter-client in c:\\python38\\lib\\site-packages (from ipykernel>=4.5.1->ipywidgets>=7.5.0->ipycanvas) (6.1.7)\n",
      "Requirement already satisfied: tornado>=4.2 in c:\\python38\\lib\\site-packages (from ipykernel>=4.5.1->ipywidgets>=7.5.0->ipycanvas) (6.0.4)\n",
      "Requirement already satisfied: nbconvert in c:\\python38\\lib\\site-packages (from notebook>=4.4.1->widgetsnbextension~=3.5.0->ipywidgets>=7.5.0->ipycanvas) (6.0.6)\n",
      "Requirement already satisfied: Send2Trash in c:\\python38\\lib\\site-packages (from notebook>=4.4.1->widgetsnbextension~=3.5.0->ipywidgets>=7.5.0->ipycanvas) (1.5.0)\n",
      "Requirement already satisfied: prometheus-client in c:\\python38\\lib\\site-packages (from notebook>=4.4.1->widgetsnbextension~=3.5.0->ipywidgets>=7.5.0->ipycanvas) (0.8.0)\n",
      "Requirement already satisfied: jinja2 in c:\\python38\\lib\\site-packages (from notebook>=4.4.1->widgetsnbextension~=3.5.0->ipywidgets>=7.5.0->ipycanvas) (2.11.2)\n",
      "Requirement already satisfied: argon2-cffi in c:\\python38\\lib\\site-packages (from notebook>=4.4.1->widgetsnbextension~=3.5.0->ipywidgets>=7.5.0->ipycanvas) (20.1.0)\n",
      "Requirement already satisfied: pyzmq>=17 in c:\\python38\\lib\\site-packages (from notebook>=4.4.1->widgetsnbextension~=3.5.0->ipywidgets>=7.5.0->ipycanvas) (19.0.2)\n",
      "Requirement already satisfied: terminado>=0.8.3 in c:\\python38\\lib\\site-packages (from notebook>=4.4.1->widgetsnbextension~=3.5.0->ipywidgets>=7.5.0->ipycanvas) (0.9.1)\n",
      "Requirement already satisfied: parso<0.8.0,>=0.7.0 in c:\\python38\\lib\\site-packages (from jedi>=0.10->ipython>=4.0.0; python_version >= \"3.3\"->ipywidgets>=7.5.0->ipycanvas) (0.7.1)\n",
      "Requirement already satisfied: wcwidth in c:\\python38\\lib\\site-packages (from prompt-toolkit!=3.0.0,!=3.0.1,<3.1.0,>=2.0.0->ipython>=4.0.0; python_version >= \"3.3\"->ipywidgets>=7.5.0->ipycanvas) (0.2.5)\n",
      "Requirement already satisfied: pyrsistent>=0.14.0 in c:\\python38\\lib\\site-packages (from jsonschema!=2.5.0,>=2.4->nbformat>=4.2.0->ipywidgets>=7.5.0->ipycanvas) (0.17.3)\n",
      "Requirement already satisfied: attrs>=17.4.0 in c:\\python38\\lib\\site-packages (from jsonschema!=2.5.0,>=2.4->nbformat>=4.2.0->ipywidgets>=7.5.0->ipycanvas) (20.2.0)\n",
      "Requirement already satisfied: six>=1.11.0 in c:\\users\\scrgiorgio\\appdata\\roaming\\python\\python38\\site-packages (from jsonschema!=2.5.0,>=2.4->nbformat>=4.2.0->ipywidgets>=7.5.0->ipycanvas) (1.15.0)\n",
      "Requirement already satisfied: pywin32>=1.0; sys_platform == \"win32\" in c:\\python38\\lib\\site-packages (from jupyter-core->nbformat>=4.2.0->ipywidgets>=7.5.0->ipycanvas) (228)\n",
      "Requirement already satisfied: python-dateutil>=2.1 in c:\\python38\\lib\\site-packages (from jupyter-client->ipykernel>=4.5.1->ipywidgets>=7.5.0->ipycanvas) (2.8.1)\n",
      "Requirement already satisfied: mistune<2,>=0.8.1 in c:\\python38\\lib\\site-packages (from nbconvert->notebook>=4.4.1->widgetsnbextension~=3.5.0->ipywidgets>=7.5.0->ipycanvas) (0.8.4)\n",
      "Requirement already satisfied: testpath in c:\\python38\\lib\\site-packages (from nbconvert->notebook>=4.4.1->widgetsnbextension~=3.5.0->ipywidgets>=7.5.0->ipycanvas) (0.4.4)\n",
      "Requirement already satisfied: jupyterlab-pygments in c:\\python38\\lib\\site-packages (from nbconvert->notebook>=4.4.1->widgetsnbextension~=3.5.0->ipywidgets>=7.5.0->ipycanvas) (0.1.1)\n",
      "Requirement already satisfied: pandocfilters>=1.4.1 in c:\\python38\\lib\\site-packages (from nbconvert->notebook>=4.4.1->widgetsnbextension~=3.5.0->ipywidgets>=7.5.0->ipycanvas) (1.4.2)\n",
      "Requirement already satisfied: nbclient<0.6.0,>=0.5.0 in c:\\python38\\lib\\site-packages (from nbconvert->notebook>=4.4.1->widgetsnbextension~=3.5.0->ipywidgets>=7.5.0->ipycanvas) (0.5.0)\n",
      "Requirement already satisfied: bleach in c:\\python38\\lib\\site-packages (from nbconvert->notebook>=4.4.1->widgetsnbextension~=3.5.0->ipywidgets>=7.5.0->ipycanvas) (3.2.1)\n",
      "Requirement already satisfied: defusedxml in c:\\python38\\lib\\site-packages (from nbconvert->notebook>=4.4.1->widgetsnbextension~=3.5.0->ipywidgets>=7.5.0->ipycanvas) (0.6.0)\n",
      "Requirement already satisfied: entrypoints>=0.2.2 in c:\\python38\\lib\\site-packages (from nbconvert->notebook>=4.4.1->widgetsnbextension~=3.5.0->ipywidgets>=7.5.0->ipycanvas) (0.3)\n",
      "Requirement already satisfied: MarkupSafe>=0.23 in c:\\python38\\lib\\site-packages (from jinja2->notebook>=4.4.1->widgetsnbextension~=3.5.0->ipywidgets>=7.5.0->ipycanvas) (1.1.1)\n",
      "Requirement already satisfied: cffi>=1.0.0 in c:\\python38\\lib\\site-packages (from argon2-cffi->notebook>=4.4.1->widgetsnbextension~=3.5.0->ipywidgets>=7.5.0->ipycanvas) (1.14.3)\n",
      "Requirement already satisfied: pywinpty>=0.5; os_name == \"nt\" in c:\\python38\\lib\\site-packages (from terminado>=0.8.3->notebook>=4.4.1->widgetsnbextension~=3.5.0->ipywidgets>=7.5.0->ipycanvas) (0.5.7)\n",
      "Requirement already satisfied: nest-asyncio in c:\\python38\\lib\\site-packages (from nbclient<0.6.0,>=0.5.0->nbconvert->notebook>=4.4.1->widgetsnbextension~=3.5.0->ipywidgets>=7.5.0->ipycanvas) (1.4.0)\n",
      "Requirement already satisfied: async-generator in c:\\python38\\lib\\site-packages (from nbclient<0.6.0,>=0.5.0->nbconvert->notebook>=4.4.1->widgetsnbextension~=3.5.0->ipywidgets>=7.5.0->ipycanvas) (1.10)\n",
      "Requirement already satisfied: webencodings in c:\\python38\\lib\\site-packages (from bleach->nbconvert->notebook>=4.4.1->widgetsnbextension~=3.5.0->ipywidgets>=7.5.0->ipycanvas) (0.5.1)\n",
      "Requirement already satisfied: packaging in c:\\python38\\lib\\site-packages (from bleach->nbconvert->notebook>=4.4.1->widgetsnbextension~=3.5.0->ipywidgets>=7.5.0->ipycanvas) (20.4)\n",
      "Requirement already satisfied: pycparser in c:\\python38\\lib\\site-packages (from cffi>=1.0.0->argon2-cffi->notebook>=4.4.1->widgetsnbextension~=3.5.0->ipywidgets>=7.5.0->ipycanvas) (2.20)\n",
      "Requirement already satisfied: pyparsing>=2.0.2 in c:\\python38\\lib\\site-packages (from packaging->bleach->nbconvert->notebook>=4.4.1->widgetsnbextension~=3.5.0->ipywidgets>=7.5.0->ipycanvas) (2.4.7)\n"
     ]
    },
    {
     "name": "stderr",
     "output_type": "stream",
     "text": [
      "WARNING: You are using pip version 20.2.3; however, version 20.3.3 is available.\n",
      "You should consider upgrading via the 'c:\\python38\\python.exe -m pip install --upgrade pip' command.\n"
     ]
    },
    {
     "name": "stdout",
     "output_type": "stream",
     "text": [
      "Requirement already up-to-date: OpenVisus in c:\\python38\\lib\\site-packages (2.1.106)\n"
     ]
    },
    {
     "name": "stderr",
     "output_type": "stream",
     "text": [
      "WARNING: You are using pip version 20.2.3; however, version 20.3.3 is available.\n",
      "You should consider upgrading via the 'c:\\python38\\python.exe -m pip install --upgrade pip' command.\n",
      "Enabling notebook extension jupyter-js-widgets/extension...\n",
      "      - Validating: ok\n"
     ]
    }
   ],
   "source": [
    "import os,sys\n",
    "\n",
    "# prerequisites\n",
    "!{sys.executable} -m pip install ipywidgets\n",
    "!{sys.executable} -m pip install ipycanvas\n",
    "!{sys.executable} -m pip  install --upgrade OpenVisus\n",
    "!jupyter.exe nbextension enable --py widgetsnbextension"
   ]
  },
  {
   "cell_type": "code",
   "execution_count": 2,
   "metadata": {},
   "outputs": [
    {
     "name": "stdout",
     "output_type": "stream",
     "text": [
      "Starting OpenVisus c:\\python38\\lib\\site-packages\\OpenVisus\\__init__.py 3.8.6 (tags/v3.8.6:db45529, Sep 23 2020, 15:52:53) [MSC v.1927 64 bit (AMD64)] sys.version_info(major=3, minor=8, micro=6, releaselevel='final', serial=0) ...\n"
     ]
    }
   ],
   "source": [
    "import os,sys,math,random\n",
    "import numpy as np\n",
    "import matplotlib\n",
    "import matplotlib.pyplot as plt\n",
    "import ipywidgets\n",
    "\n",
    "from PIL            import Image\n",
    "from urllib.request import urlopen\n",
    "from ipycanvas      import Canvas, hold_canvas\n",
    "\n",
    "from OpenVisus import *\n",
    "\n",
    "\"\"\"\n",
    "///////////////////////////////\n",
    "CONFIG SECTION\n",
    "///////////////////////////////\n",
    "\"\"\"\n",
    "\n",
    "dataset_url=\"http://atlantis.sci.utah.edu/mod_visus?dataset=2kbit1\"\n",
    "\n",
    "\n",
    "#'flag', 'prism', 'ocean', 'gist_earth', 'terrain', 'gist_stern', 'gnuplot', 'gnuplot2', 'CMRmap', \n",
    "#'cubehelix', 'brg', 'gist_rainbow', 'rainbow', 'jet', 'nipy_spectral', 'gist_ncar'\n",
    "cmap='gist_rainbow'\n",
    "cmap='rainbow'\n",
    "field='xray'\n",
    "offset_step=4\n",
    "canvas_width,canvas_height=600,600"
   ]
  },
  {
   "cell_type": "code",
   "execution_count": 3,
   "metadata": {},
   "outputs": [
    {
     "name": "stdout",
     "output_type": "stream",
     "text": [
      "logic_box ([0, 0, 0], [2048, 2048, 2048])\n",
      "dims [2048, 2048, 2048]\n",
      "Field DATA uint8 8GB\n",
      "Add done\n"
     ]
    }
   ],
   "source": [
    "db=LoadDataset(dataset_url)\n",
    "logic_box=db.getLogicBox()\n",
    "dims=logic_box[1]\n",
    "\n",
    "# /////////////////////////////////////////////////////////\n",
    "def LoadImage(filename):\n",
    "    return np.asarray(PIL.Image.open(urlopen(filename)  if filename.startswith('http') else filename))\n",
    "    \n",
    "# /////////////////////////////////////////////////////////\n",
    "def PrintDatasetInfo():\n",
    "    print(\"logic_box\",logic_box)\n",
    "    print(\"dims\",dims)\n",
    "    fields=[db.getField(name) for name in db.getFields()]\n",
    "    for field in fields:\n",
    "        dtype=field.dtype\n",
    "        GB=int(dims[0]*dims[1]*dims[2]*dtype.getByteSize()/(1024*1024*1024))\n",
    "        print(\"Field\",field.name, dtype.toString(), \"{}GB\".format(GB))\n",
    "    \n",
    "# /////////////////////////////////////////////////////////\n",
    "def ShowImage(data):\n",
    "    m,M = np.min(data),np.max(data) \n",
    "    data=(data - m) / (M - m) # normalize 0,1\n",
    "    data=plt.get_cmap(cmap)(data) # apply palette\n",
    "    data = np.uint8(data*255) # convert uint8\n",
    "    canvas.save()\n",
    "    canvas.scale(canvas.width/data.shape[1],canvas.height/data.shape[0])\n",
    "    canvas.put_image_data(data, 0, 0)\n",
    "    canvas.restore()    \n",
    "    \n",
    "# /////////////////////////////////////////////////////////\n",
    "def ExtractSlice(axis ,offset, num_refinements): \n",
    "\n",
    "    \n",
    "    ranges=[(logic_box[0][I],logic_box[1][I]) for I in range(3)]\n",
    "    \n",
    "    x,y,z=(\n",
    "        ranges[0] if axis!=0 else [offset,offset+1],\n",
    "        ranges[1] if axis!=1 else [offset,offset+1],\n",
    "        ranges[2] if axis!=2 else [offset,offset+1])\n",
    "\n",
    "    # guess quality\n",
    "    quality=0\n",
    "    tot_pixels=(x[1]-x[0]) * (y[1]-y[0]) * (z[1]-z[0])\n",
    "    MAX_PIXELS=canvas.width*canvas.height\n",
    "    while tot_pixels >= MAX_PIXELS:\n",
    "        quality-=1\n",
    "        tot_pixels=int(tot_pixels/2) \n",
    "\n",
    "    print(\"Extracting slice\",\"quality\",quality,\"num_refinements\",num_refinements,\"x\",x,\"y\",y,\"z\",z)   \n",
    "    \n",
    "    while True:\n",
    "        try:\n",
    "            cont=0\n",
    "            for data in db.read(x=x,y=y,z=z,num_refinements=num_refinements,quality=quality,field=field):\n",
    "                # print(\"cont\",cont,\"{} {} quality({})\".format(data.shape,data.dtype,quality));cont+=1\n",
    "                if len(data.shape)==3 and data.shape[0]==1: data=data[0,:,:]\n",
    "                if len(data.shape)==3 and data.shape[1]==1: data=data[:,0,:]   \n",
    "                if len(data.shape)==3 and data.shape[2]==1: data=data[:,:,0] \n",
    "                ShowImage(data)\n",
    "                print(\"{} {})\".format(data.shape,data.dtype),end=' ')\n",
    "            print(\"\")\n",
    "            break\n",
    "        except  Exception as e:\n",
    "            #it can fail because the quality is too low\n",
    "            # print(\"increasing quality\",\"error\",e)\n",
    "            quality+=1\n",
    "\n",
    "\n",
    "# /////////////////////////////////////////////////////////\n",
    "def ShowUI():\n",
    "    \n",
    "    axis_slider=ipywidgets.IntSlider(min=0, max=2, step=1, value=0)\n",
    "    offset_slider=ipywidgets.IntSlider(min=0, max=dims[0]-1, step=offset_step, value=int(dims[0]/2))\n",
    "    num_refinements_slider=ipywidgets.IntSlider(min=1, max=6, step=1, value=3)\n",
    "    \n",
    "    def OnAxisChange(*args):\n",
    "        axis=axis_slider.value\n",
    "        offset_slider.max=dims[axis]-1\n",
    "        offset_slider.value=int(dims[axis]/2)       \n",
    "    \n",
    "    axis_slider.observe(OnAxisChange, 'value')\n",
    "    #ipywidgets.interact_manual(ExtractSlice,  axis=axis_slider,  offset= offset_slider, num_refinements=num_refinements_slider)    \n",
    "    ipywidgets.interact(ExtractSlice,  axis=axis_slider,  offset= offset_slider, num_refinements=num_refinements_slider)    \n",
    "\n",
    "    \n",
    "PrintDatasetInfo()\n",
    "print(\"Add done\")"
   ]
  },
  {
   "cell_type": "code",
   "execution_count": null,
   "metadata": {},
   "outputs": [],
   "source": [
    "canvas = Canvas(width=canvas_width, height=canvas_height);canvas"
   ]
  },
  {
   "cell_type": "code",
   "execution_count": null,
   "metadata": {},
   "outputs": [],
   "source": [
    "ShowUI()"
   ]
  },
  {
   "cell_type": "code",
   "execution_count": null,
   "metadata": {},
   "outputs": [],
   "source": []
  },
  {
   "cell_type": "code",
   "execution_count": null,
   "metadata": {},
   "outputs": [],
   "source": []
  }
 ],
 "metadata": {
  "kernelspec": {
   "display_name": "Python 3",
   "language": "python",
   "name": "python3"
  },
  "language_info": {
   "codemirror_mode": {
    "name": "ipython",
    "version": 3
   },
   "file_extension": ".py",
   "mimetype": "text/x-python",
   "name": "python",
   "nbconvert_exporter": "python",
   "pygments_lexer": "ipython3",
   "version": "3.8.6"
  }
 },
 "nbformat": 4,
 "nbformat_minor": 4
}

{
 "cells": [
  {
   "cell_type": "code",
   "execution_count": 1,
   "id": "004fdd9b",
   "metadata": {},
   "outputs": [
    {
     "name": "stdout",
     "output_type": "stream",
     "text": [
      "Requirement already satisfied: astropy in c:\\python38\\lib\\site-packages (4.3.1)\n",
      "Requirement already satisfied: pyerfa>=1.7.3 in c:\\python38\\lib\\site-packages (from astropy) (2.0.0)\n",
      "Requirement already satisfied: numpy>=1.17 in c:\\python38\\lib\\site-packages (from astropy) (1.21.1)\n"
     ]
    },
    {
     "name": "stderr",
     "output_type": "stream",
     "text": [
      "WARNING: You are using pip version 20.2.3; however, version 21.2.4 is available.\n",
      "You should consider upgrading via the 'C:\\Python38\\python.exe -m pip install --upgrade pip' command.\n"
     ]
    }
   ],
   "source": [
    "# see https://docs.astropy.org/en/stable/io/fits/\n",
    "!python -m pip install \"astropy\""
   ]
  },
  {
   "cell_type": "code",
   "execution_count": 3,
   "id": "9c6cefa6",
   "metadata": {},
   "outputs": [
    {
     "name": "stdout",
     "output_type": "stream",
     "text": [
      "<dataset url=\"arecibo.big.idx\" typename=\"IdxDataset\">\n",
      "\t<idxfile>\n",
      "\t\t<version value=\"6\" />\n",
      "\t\t<bitmask value=\"V1010101010101010101010101\" />\n",
      "\t\t<box value=\"0 4000 0 5000\" />\n",
      "\t\t<bitsperblock value=\"16\" />\n",
      "\t\t<blocksperfile value=\"512\" />\n",
      "\t\t<block_interleaving value=\"0\" />\n",
      "\t\t<filename_template value=\"./arecibo.big/%04x.bin\" />\n",
      "\t\t<missing_blocks value=\"False\" />\n",
      "\t\t<time_template value=\"time_%02d/\" />\n",
      "\t\t<field name=\"field\" description=\"\" index=\"\" default_compression=\"\" default_layout=\"\" default_value=\"0\" filter=\"\" dtype=\"float32\" />\n",
      "\t\t<timestep from=\"0\" to=\"5\" step=\"1\" />\n",
      "\t</idxfile>\n",
      "</dataset>\n"
     ]
    }
   ],
   "source": [
    "from astropy.io import fits\n",
    "import os,sys\n",
    "import numpy as np\n",
    "\n",
    "sys.path.append(r\"C:\\projects\\OpenVisus\\build\\RelWithDebInfo\")\n",
    "from OpenVisus import *\n",
    "\n",
    "filenames=[\n",
    "    r\"D:/bokeh-examples/astropy-arecibo/fits/sum.fits\",\n",
    "    r\"D:/bokeh-examples/astropy-arecibo/fits/sum1.fits\",\n",
    "    r\"D:/bokeh-examples/astropy-arecibo/fits/sum2.fits\",\n",
    "    r\"D:/bokeh-examples/astropy-arecibo/fits/sum3.fits\",\n",
    "    r\"D:/bokeh-examples/astropy-arecibo/fits/sum4.fits\",\n",
    "]\n",
    "\n",
    "# filenames=[\n",
    "#     r\"D:/bokeh-examples/astropy-arecibo/fits/sum1.fits\"\n",
    "# ]\n",
    "\n",
    "scale=10.0\n",
    "x_dim = int(400*scale)\n",
    "y_dim = int(500*scale)\n",
    "\n",
    "dims=[x_dim,y_dim]\n",
    "\n",
    "N=len(filenames)\n",
    "\n",
    "# multifield\n",
    "bMultiField=False\n",
    "if bMultiField:\n",
    "    fields=[Field('field{}'.format(I),'float32','row_major') for I in range(N)]\n",
    "    db=CreateIdx(url=\"arecibo.idx\", dims=[x_dim,y_dim],fields=fields,compression=\"raw\")\n",
    "# multitime\n",
    "else:\n",
    "    field=Field('field','float32','row_major')\n",
    "    db=CreateIdx(url=\"arecibo.big.idx\", dims=[x_dim,y_dim],fields=[field],time=[0,N-1,\"time_%02d/\"],compression=\"raw\")\n",
    "print(db.getDatasetBody().toString())"
   ]
  },
  {
   "cell_type": "code",
   "execution_count": 4,
   "id": "caee65a8",
   "metadata": {
    "scrolled": false
   },
   "outputs": [
    {
     "name": "stdout",
     "output_type": "stream",
     "text": [
      "Converting filename D:/bokeh-examples/astropy-arecibo/fits/sum.fits ...\n",
      "-----------------------------------------\n",
      "Filename: D:/bokeh-examples/astropy-arecibo/fits/sum.fits\n",
      "No.    Name      Ver    Type      Cards   Dimensions   Format\n",
      "  0  PRIMARY       1 PrimaryHDU     143   (400, 500)   float32   \n",
      "-----------------------------------------\n",
      "-----------------------------------------\n",
      "-----------------------------------------\n",
      "(-3.002467, 4.737127)\n",
      "(-3.002467, 4.737127)\n",
      "-----------------------------------------\n",
      "-----------------------------------------\n",
      "-----------------------------------------\n",
      "conversion done\n",
      "Converting filename D:/bokeh-examples/astropy-arecibo/fits/sum1.fits ...\n",
      "-----------------------------------------\n",
      "Filename: D:/bokeh-examples/astropy-arecibo/fits/sum1.fits\n",
      "No.    Name      Ver    Type      Cards   Dimensions   Format\n",
      "  0  PRIMARY       1 PrimaryHDU     107   (400, 500)   float32   \n",
      "-----------------------------------------\n",
      "-----------------------------------------\n",
      "-----------------------------------------\n",
      "(-2.448416, 6.2220235)\n",
      "(-2.448416, 6.2220235)\n",
      "-----------------------------------------\n",
      "-----------------------------------------\n",
      "-----------------------------------------\n",
      "conversion done\n",
      "Converting filename D:/bokeh-examples/astropy-arecibo/fits/sum2.fits ...\n",
      "-----------------------------------------\n",
      "Filename: D:/bokeh-examples/astropy-arecibo/fits/sum2.fits\n",
      "No.    Name      Ver    Type      Cards   Dimensions   Format\n",
      "  0  PRIMARY       1 PrimaryHDU     107   (400, 500)   float32   \n",
      "-----------------------------------------\n",
      "-----------------------------------------\n",
      "-----------------------------------------\n",
      "(-2.4174964, 5.588266)\n",
      "(-2.4174964, 5.588266)\n",
      "-----------------------------------------\n",
      "-----------------------------------------\n",
      "-----------------------------------------\n",
      "conversion done\n",
      "Converting filename D:/bokeh-examples/astropy-arecibo/fits/sum3.fits ...\n",
      "-----------------------------------------\n",
      "Filename: D:/bokeh-examples/astropy-arecibo/fits/sum3.fits\n",
      "No.    Name      Ver    Type      Cards   Dimensions   Format\n",
      "  0  PRIMARY       1 PrimaryHDU     107   (400, 500)   float32   \n",
      "-----------------------------------------\n",
      "-----------------------------------------\n",
      "-----------------------------------------\n",
      "(-2.18572, 5.391472)\n",
      "(-2.18572, 5.391472)\n",
      "-----------------------------------------\n",
      "-----------------------------------------\n",
      "-----------------------------------------\n",
      "conversion done\n",
      "Converting filename D:/bokeh-examples/astropy-arecibo/fits/sum4.fits ...\n",
      "-----------------------------------------\n",
      "Filename: D:/bokeh-examples/astropy-arecibo/fits/sum4.fits\n",
      "No.    Name      Ver    Type      Cards   Dimensions   Format\n",
      "  0  PRIMARY       1 PrimaryHDU     107   (400, 500)   float32   \n",
      "-----------------------------------------\n",
      "-----------------------------------------\n",
      "-----------------------------------------\n",
      "(-2.236931, 5.6054935)\n",
      "(-2.236931, 5.6054935)\n",
      "-----------------------------------------\n",
      "-----------------------------------------\n",
      "-----------------------------------------\n",
      "conversion done\n",
      "All done\n"
     ]
    }
   ],
   "source": [
    "for I,filename in enumerate(filenames):\n",
    "    print(\"Converting filename\",filename,\"...\")\n",
    "    hdul = fits.open(filename)\n",
    "    print(\"-----------------------------------------\")\n",
    "    hdul.info()\n",
    "    print(\"-----------------------------------------\")\n",
    "    nlayers=len(hdul)\n",
    "    print(\"-----------------------------------------\")\n",
    "    Assert(nlayers==1)\n",
    "    print(\"-----------------------------------------\")\n",
    "    a=hdul[0].data\n",
    "    print((np.min(a),np.max(a)) )\n",
    "    b = np.matrix(a,dtype=numpy.single)\n",
    "    print((np.min(b),np.max(b)) )\n",
    "    \n",
    "    # rescale if needed\n",
    "    if scale!=1.0:\n",
    "        from skimage.transform import resize\n",
    "        b = resize(b, (int(scale*b.shape[0]), int(scale*b.shape[1])))\n",
    "        \n",
    "    print(\"-----------------------------------------\")\n",
    "    db.write(b,\n",
    "             field=fields[I].name if bMultiField else db.getField().name, \n",
    "             time=0 if bMultiField else I\n",
    "    ) #NOTE BUG HERE if I use fields[I]\n",
    "    print(\"-----------------------------------------\")\n",
    "    hdul.close()\n",
    "    print(\"-----------------------------------------\")\n",
    "    print(\"conversion done\")\n",
    "print(\"All done\")"
   ]
  },
  {
   "cell_type": "code",
   "execution_count": 17,
   "id": "cc457315",
   "metadata": {},
   "outputs": [],
   "source": [
    "# db.compressDataset([\"zip\"])"
   ]
  },
  {
   "cell_type": "code",
   "execution_count": null,
   "id": "94b1d664",
   "metadata": {},
   "outputs": [],
   "source": []
  },
  {
   "cell_type": "code",
   "execution_count": null,
   "id": "427fe4e7",
   "metadata": {},
   "outputs": [],
   "source": []
  }
 ],
 "metadata": {
  "kernelspec": {
   "display_name": "Python 3",
   "language": "python",
   "name": "python3"
  },
  "language_info": {
   "codemirror_mode": {
    "name": "ipython",
    "version": 3
   },
   "file_extension": ".py",
   "mimetype": "text/x-python",
   "name": "python",
   "nbconvert_exporter": "python",
   "pygments_lexer": "ipython3",
   "version": "3.8.6"
  }
 },
 "nbformat": 4,
 "nbformat_minor": 5
}

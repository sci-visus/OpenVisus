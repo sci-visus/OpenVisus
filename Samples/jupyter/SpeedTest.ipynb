{
 "cells": [
  {
   "cell_type": "markdown",
   "metadata": {},
   "source": [
    "# Preamble "
   ]
  },
  {
   "cell_type": "code",
   "execution_count": 34,
   "metadata": {},
   "outputs": [
    {
     "name": "stdout",
     "output_type": "stream",
     "text": [
      "idx_filename D:/GoogleSci/visus_dataset/2kbit1/huge/raw/visus.idx\n",
      "bin_dir D:/GoogleSci/visus_dataset/2kbit1/huge/raw\n"
     ]
    }
   ],
   "source": [
    "import sys, os,glob,random,datetime\n",
    "\n",
    "# change path as needed or comment\n",
    "sys.path.append(r\"C:\\projects\\OpenVisus\\build\\RelWithDebInfo\")\n",
    "from OpenVisus import *\n",
    "\n",
    "# EXAMPLE sdd\n",
    "# idx_filename='c:/visus-datasets/raw/visus.idx'\n",
    "# bin_dir='c:/visus-datasets/raw'\n",
    "\n",
    "# EXAMPLE hdd\n",
    "idx_filename='D:/GoogleSci/visus_dataset/2kbit1/huge/raw/visus.idx'\n",
    "bin_dir='D:/GoogleSci/visus_dataset/2kbit1/huge/raw'\n",
    "\n",
    "# EXAMPLE gdrive\n",
    "# idx_filename='E:/My Drive/visus-datasets/llnl/battery.idx'\n",
    "# bin_dir='E:/My Drive/visus-datasets/llnl/battery'\n",
    "\n",
    "# EXAMPLE wasabi\n",
    "# idx_filename = 'G:/visus-datasets/llnl/battery.idx'\n",
    "# bin_dir='G:/visus-datasets/llnl/battery'\n",
    "\n",
    "print(\"idx_filename\",idx_filename)\n",
    "Assert(os.path.isfile(idx_filename))\n",
    "\n",
    "print(\"bin_dir\",bin_dir)\n",
    "Assert(os.path.isdir(bin_dir))\n",
    "\n",
    "# how long to run each test\n",
    "max_seconds=20\n",
    "\n",
    "KB,MB,GB=1024,1024*1024,1024*1024*1024\n",
    "\n",
    "random.seed()\n",
    "\n",
    "T1=None\n",
    "\n",
    "def stop(): \n",
    "    global T1,max_seconds\n",
    "    return T1.elapsedSec()>=max_seconds\n",
    "\n",
    "def beginStats(name):\n",
    "    global T1\n",
    "    T1=Time.now()\n",
    "    File.global_stats().resetStats()\n",
    "\n",
    "def endStats():\n",
    "    sec=T1.elapsedSec()\n",
    "    bytes=File.global_stats().getReadBytes()\n",
    "    nopen=File.global_stats().getNumOpen()\n",
    "    print(sec,\"seconds\",\"{}MB {:.2f}MB/sec\".format(int(bytes/MB),(bytes/MB)/sec),\"nopen\",nopen)   "
   ]
  },
  {
   "cell_type": "markdown",
   "metadata": {},
   "source": [
    "# Open IDX"
   ]
  },
  {
   "cell_type": "code",
   "execution_count": 35,
   "metadata": {},
   "outputs": [
    {
     "name": "stdout",
     "output_type": "stream",
     "text": [
      "DIMS [8192 8192 4096]\n",
      "dtype uint8\n",
      "blocksize 65536\n",
      "nblocks 4194304\n"
     ]
    }
   ],
   "source": [
    "db=LoadDataset(idx_filename)\n",
    "samples_per_block=1<<db.idxfile.bitsperblock\n",
    "field=db.getField()\n",
    "blocksize=field.dtype.getByteSize(samples_per_block)\n",
    "DIMS=db.getLogicSize()\n",
    "nblocks=db.getTotalNumberOfBlocks()\n",
    "print(\"DIMS\",DIMS)\n",
    "print(\"dtype\",field.dtype.toString())\n",
    "print(\"blocksize\",blocksize)\n",
    "print(\"nblocks\",nblocks)\n",
    "\n",
    "access = db.createAccessForBlockQuery()\n",
    "buffer=Array(blocksize, DType.fromString(\"uint8\")) \n",
    "file=File()"
   ]
  },
  {
   "cell_type": "markdown",
   "metadata": {},
   "source": [
    "# Find all binary files"
   ]
  },
  {
   "cell_type": "code",
   "execution_count": 36,
   "metadata": {},
   "outputs": [
    {
     "name": "stdout",
     "output_type": "stream",
     "text": [
      "found 8192 *.bin files\n",
      "minsize 33574952\n",
      "maxsize 33574952\n"
     ]
    }
   ],
   "source": [
    "# find binary files for raw speed test\n",
    "filenames = glob.glob(bin_dir + '/**/*.bin',recursive=True)\n",
    "filenames=[it for it in filenames if os.path.getsize(it) >= blocksize]\n",
    "filesizes={}\n",
    "for filename in filenames:\n",
    "    filesizes[filename]=os.path.getsize(filename)\n",
    "print(\"found\",len(filenames),\"*.bin files\")\n",
    "print(\"minsize\",min([filesizes[filename] for filename in filesizes]))\n",
    "print(\"maxsize\",max([filesizes[filename] for filename in filesizes]))\n",
    "nfiles=len(filenames)"
   ]
  },
  {
   "cell_type": "markdown",
   "metadata": {},
   "source": [
    "# read-seq"
   ]
  },
  {
   "cell_type": "code",
   "execution_count": 37,
   "metadata": {},
   "outputs": [
    {
     "name": "stdout",
     "output_type": "stream",
     "text": [
      "20.242 seconds 2208MB 109.08MB/sec nopen 69\n"
     ]
    }
   ],
   "source": [
    "beginStats(\"read-seq\")\n",
    "# do not start from file 0 to avoid caching issues\n",
    "I=random.randint(0,nfiles-1)\n",
    "while not stop():\n",
    "    filename=filenames[I % nfiles]\n",
    "    filesize=filesizes[filename]\n",
    "    Assert(file.open(filename, \"r\"))\n",
    "    for offset in range(0,filesize,blocksize):\n",
    "        num=min(filesize-offset,blocksize)\n",
    "        if num<blocksize: break\n",
    "        Assert(file.read(offset,buffer.c_size(),buffer.c_ptr()))\n",
    "        offset+=num\n",
    "    file.close()\n",
    "    I+=1\n",
    "endStats()"
   ]
  },
  {
   "cell_type": "markdown",
   "metadata": {},
   "source": [
    "# read-rand"
   ]
  },
  {
   "cell_type": "code",
   "execution_count": 39,
   "metadata": {},
   "outputs": [
    {
     "name": "stdout",
     "output_type": "stream",
     "text": [
      "20.009 seconds 29MB 1.49MB/sec nopen 477\n"
     ]
    }
   ],
   "source": [
    "beginStats(\"read-rand\")\n",
    "while not stop():\n",
    "    # pick a random file\n",
    "    filename=random.choice(filenames)\n",
    "    filesize=filesizes[filename] \n",
    "    Assert(file.open(filename,\"r\"))\n",
    "    # pick a random offset\n",
    "    offset=random.randint(0,filesize-blocksize)\n",
    "    Assert(file.read(offset,buffer.c_size(),buffer.c_ptr()))\n",
    "    file.close()\n",
    "endStats()"
   ]
  },
  {
   "cell_type": "markdown",
   "metadata": {},
   "source": [
    "# read-idx-seq"
   ]
  },
  {
   "cell_type": "code",
   "execution_count": 40,
   "metadata": {},
   "outputs": [
    {
     "name": "stdout",
     "output_type": "stream",
     "text": [
      "20.002 seconds 2353MB 117.66MB/sec nopen 75\n"
     ]
    }
   ],
   "source": [
    "beginStats(\"read-idx-seq\")\n",
    "access.beginRead()\n",
    "# start from any good block to avoid caching issues\n",
    "blockid=random.randint(0,nblocks-1)\n",
    "while not stop():\n",
    "    query = db.createBlockQuery(blockid)\n",
    "    query.buffer=buffer\n",
    "    db.executeBlockQuery(access, query)\n",
    "    if not query.ok():\n",
    "        print(\"Query failed\",query.errormsg)\n",
    "    blockid+=1\n",
    "access.endRead()\n",
    "endStats()"
   ]
  },
  {
   "cell_type": "markdown",
   "metadata": {},
   "source": [
    "# read-idx-rand"
   ]
  },
  {
   "cell_type": "code",
   "execution_count": 41,
   "metadata": {
    "scrolled": true
   },
   "outputs": [
    {
     "name": "stdout",
     "output_type": "stream",
     "text": [
      "20.03 seconds 34MB 1.71MB/sec nopen 417\n"
     ]
    }
   ],
   "source": [
    "beginStats(\"read-idx-rand\")\n",
    "access.beginRead()\n",
    "while not stop():\n",
    "    blockid=random.randint(0,nblocks-1)\n",
    "    query = db.createBlockQuery(blockid)\n",
    "    query.buffer=buffer\n",
    "    db.executeBlockQuery(access, query)\n",
    "    Assert(query.ok()) \n",
    "access.endRead()\n",
    "endStats()"
   ]
  },
  {
   "cell_type": "markdown",
   "metadata": {},
   "source": [
    "# box-query"
   ]
  },
  {
   "cell_type": "code",
   "execution_count": 42,
   "metadata": {},
   "outputs": [
    {
     "name": "stdout",
     "output_type": "stream",
     "text": [
      "23.737 seconds 952MB 40.12MB/sec nopen 246\n"
     ]
    }
   ],
   "source": [
    "dims=(512,512,512)\n",
    "beginStats(\"box-query\")\n",
    "access.beginRead()\n",
    "while not stop():\n",
    "    x,y,z=[random.randint(0,DIMS[I]-dims[I]) for I in range(3)]\n",
    "    w,h,d=x+dims[0],y+dims[1],z+dims[2]\n",
    "    buffer=db.read(logic_box=[(x,y,z),(w,h,d)],access=access)\n",
    "access.endRead()\n",
    "endStats()"
   ]
  },
  {
   "cell_type": "code",
   "execution_count": null,
   "metadata": {},
   "outputs": [],
   "source": []
  }
 ],
 "metadata": {
  "kernelspec": {
   "display_name": "Python 3",
   "language": "python",
   "name": "python3"
  },
  "language_info": {
   "codemirror_mode": {
    "name": "ipython",
    "version": 3
   },
   "file_extension": ".py",
   "mimetype": "text/x-python",
   "name": "python",
   "nbconvert_exporter": "python",
   "pygments_lexer": "ipython3",
   "version": "3.8.6"
  }
 },
 "nbformat": 4,
 "nbformat_minor": 4
}

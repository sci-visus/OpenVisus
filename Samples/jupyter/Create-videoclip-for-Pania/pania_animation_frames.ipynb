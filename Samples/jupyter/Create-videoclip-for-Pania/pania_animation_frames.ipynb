{
 "cells": [
  {
   "cell_type": "code",
   "execution_count": 1,
   "metadata": {},
   "outputs": [
    {
     "name": "stdout",
     "output_type": "stream",
     "text": [
      "['PyQt5', 'PyQt5.sip', 'PyQt5.QtCore', 'PyQt5.QtGui', 'PyQt5.QtWidgets']\n",
      "Starting OpenVisus C:\\Users\\Vlaerio's PC\\AppData\\Roaming\\Python\\Python37\\site-packages\\OpenVisus\\__init__.py 3.7.9 (tags/v3.7.9:13c94747c7, Aug 17 2020, 18:58:18) [MSC v.1900 64 bit (AMD64)] sys.version_info(major=3, minor=7, micro=9, releaselevel='final', serial=0) ...\n",
      "QT_PLUGIN_PATH C:\\Users\\Vlaerio's PC\\AppData\\Roaming\\Python\\Python37\\site-packages\\PyQt5\\Qt5/plugins\n"
     ]
    }
   ],
   "source": [
    "import os,sys,pickle,random,threading,time\n",
    "import platform,subprocess,glob,datetime\n",
    "import numpy as np\n",
    "import cv2\n",
    "from PyQt5 import QtCore\n",
    "from PyQt5 import QtWidgets\n",
    "import sip\n",
    "\n",
    "# this is needed to run the Qt5 loop in the background \n",
    "# see http://localhost:8888/notebooks/VisibleMale.ipynb#\n",
    "%gui qt\n",
    "%matplotlib qt\n",
    "print([it for it in sys.modules.keys() if \"pyqt\" in it.lower()])\n",
    "\n",
    "# in case you are in debug mode\n",
    "sys.path.append(r\"C:\\projects\\OpenVisus\\build\\RelWithDebInfo\")\n",
    "\n",
    "from OpenVisus                        import *\n",
    "from OpenVisus.gui                    import *\n",
    "from OpenVisus.image_utils            import *\n",
    "\n",
    "# use this function to create a Viewer, solves the problem of window not raising\n",
    "viewer=None\n",
    "def CreateViewer():\n",
    "    global viewer\n",
    "    viewer=PyViewer()\n",
    "    viewer_py=sip.wrapinstance(FromCppQtWidget(viewer.c_ptr()), QMainWindow)\n",
    "    viewer_py.setVisible(True)\n",
    "    viewer_py.show()\n",
    "    viewer_py.setFocus()\n",
    "    viewer_py.showMaximized()\n",
    "    viewer_py.activateWindow()\n",
    "    return viewer"
   ]
  },
  {
   "cell_type": "code",
   "execution_count": 2,
   "metadata": {},
   "outputs": [],
   "source": [
    "# do not change this cell for very good reasons (otherwise Qt5 loop won't work)\n",
    "# this is needed to run the Qt5 loop in the background \n",
    "# see http://localhost:8888/notebooks/VisibleMale.ipynb#\n",
    "import time\n",
    "time.sleep(2)"
   ]
  },
  {
   "cell_type": "markdown",
   "metadata": {},
   "source": [
    "# Define some utilities to perform viewer animations"
   ]
  },
  {
   "cell_type": "code",
   "execution_count": 3,
   "metadata": {},
   "outputs": [
    {
     "name": "stdout",
     "output_type": "stream",
     "text": [
      "Utilities defined\n"
     ]
    }
   ],
   "source": [
    "# //////////////////////////////////////////////////////////////\n",
    "class RunActions:\n",
    "    \n",
    "    def __init__(self):\n",
    "        self.v=[]\n",
    "        self.cursor=0\n",
    "        self.timer=QtCore.QTimer()\n",
    "        self.timer.timeout.connect(self.onTimer)\n",
    "        \n",
    "    def addAction(self, fn,**kwargs):\n",
    "        self.v.append(lambda : fn(**kwargs))\n",
    "        \n",
    "    def addSleep(self,msec):\n",
    "        self.v.append(msec)\n",
    "        \n",
    "    def onTimer(self):\n",
    "        \n",
    "        # if the last action was an action and the viewer is still running, I need to wait\n",
    "        if self.cursor>0 and callable(self.v[self.cursor-1]) and viewer.isRunning():\n",
    "            return\n",
    "        \n",
    "        self.timer.stop()\n",
    "        \n",
    "        if self.cursor>= len(self.v):\n",
    "            return\n",
    "        \n",
    "        cur=self.v[self.cursor]\n",
    "        self.cursor+=1\n",
    "        \n",
    "        # is a delay?\n",
    "        if isinstance(cur,int):\n",
    "            print(\"*** Sleep\",cur)\n",
    "            self.timer.start(cur) \n",
    "            \n",
    "        # is a real action, run it and later wait for completition\n",
    "        elif callable(cur):\n",
    "            cur()\n",
    "            self.timer.start(20) \n",
    "            \n",
    "        # there must be a problem\n",
    "        else:\n",
    "            raise Exception(\"internal error\")\n",
    "   \n",
    "    def start(self): \n",
    "        self.timer.start(1) \n",
    "        \n",
    "    def stop(self):\n",
    "        self.timer.stop()\n",
    "        \n",
    "print(\"Utilities defined\")"
   ]
  },
  {
   "cell_type": "markdown",
   "metadata": {},
   "source": [
    "Some predefined actions"
   ]
  },
  {
   "cell_type": "code",
   "execution_count": 4,
   "metadata": {},
   "outputs": [],
   "source": [
    "def RotateScene(axis=(0,0,1),angle=10):\n",
    "    print(\"*** RotateScene\",axis,angle)\n",
    "    glcamera=viewer.getGLCamera()\n",
    "    viewer.getGLCamera().setRotation(glcamera.getRotation() * Quaternion(Point3d(axis),math.radians(angle)))\n",
    "    viewer.refreshAll()\n",
    "    viewer.postRedisplay()\n",
    "    \n",
    "def TakeSnapshot(filename=\"temp.png\",):\n",
    "    print(\"*** TakeSnapshotAction\",filename)  \n",
    "    # viewer.takeSnapshot(False,filename) BROKEN\n",
    "    viewer_py=sip.wrapinstance(FromCppQtWidget(viewer.c_ptr()), QMainWindow)\n",
    "    screenshot = QtWidgets.QApplication.primaryScreen().grabWindow(viewer_py.winId() )\n",
    "    screenshot.save(filename)\n",
    "    \n",
    "def OpenScene(filename=\"\"):\n",
    "    print(\"*** OpenScene\",filename)\n",
    "    viewer.open(filename)\n",
    "    \n",
    "def DropSelection():\n",
    "    print(\"*** DropSelection\")\n",
    "    viewer.dropSelection()\n",
    "    \n",
    "def HideDatasetBounds(uuid=\"dataset\"):\n",
    "    print(\"*** HideDatasetBounds\",uuid)\n",
    "    # **** make sure that the dataset node has UUID `dataset` (you can save an xml and inspect it) ***\n",
    "    dataset_node=DatasetNode.castFrom(viewer.findNodeByUUID(uuid))\n",
    "    if dataset_node:\n",
    "        dataset_node.setShowBounds(False)\n",
    "    else:\n",
    "        print(\"Failed to find a node with uuid\",uuid)"
   ]
  },
  {
   "cell_type": "markdown",
   "metadata": {},
   "source": [
    "# Create scenes"
   ]
  },
  {
   "cell_type": "code",
   "execution_count": null,
   "metadata": {},
   "outputs": [],
   "source": [
    "\n",
    "filename_src=r\"D:\\_PANIA_NEW_DATA\\animation\\2-datsets-side-by-side-0002.xml\"\n",
    "filename_dist_prefix=r\"D:\\_PANIA_NEW_DATA\\animation\\2-datsets-side-by-side-frame\"\n",
    "frame = 0 \n",
    "for alpha in range(00,1510,50):\n",
    "#    actions=RunActions()\n",
    "    filename_dist = filename_dist_prefix +  \".{:03d}.xml\".format(frame)\n",
    "    print(\">>>>>>>>>>>>>>>>>>>>>>>>>>>>>>>>>>>>>> \", alpha, \" <<<<<<<<<<<<<<<<<<<<<<<<<<<<<<<<<\")\n",
    "    #input file\n",
    "    fin = open(filename_src, \"rt\")\n",
    "    #output file to write the result to\n",
    "    fout = open(filename_dist, \"wt\")\n",
    "    #for each line in the input file\n",
    "    for line in fin:\n",
    "        #read replace the string and write to output file\n",
    "        dist = 146\n",
    "        line1 = line.replace(\"146\",str(dist+alpha))\n",
    "        dirst = 375\n",
    "        fout.write(line1.replace(\"375\",str(dist+alpha)))\n",
    "    #close input and output files\n",
    "    fin.close()\n",
    "    fout.close()\n",
    "    frame = frame +1\n"
   ]
  },
  {
   "cell_type": "markdown",
   "metadata": {},
   "source": [
    "# Create Frames"
   ]
  },
  {
   "cell_type": "code",
   "execution_count": null,
   "metadata": {},
   "outputs": [],
   "source": [
    "# important to create the viewer in a different cell otherwise it won't get the focus\n",
    "viewer=CreateViewer()"
   ]
  },
  {
   "cell_type": "code",
   "execution_count": null,
   "metadata": {},
   "outputs": [],
   "source": [
    "snapshots=sorted(glob.glob(r\"D:\\_PANIA_NEW_DATA\\animation\\2-datsets-side-by-side-frame*xml\"))\n",
    "\n",
    "# limit for debugging...\n",
    "#snapshots=snapshots[:4] \n",
    "\n",
    "actions=RunActions()\n",
    "for I,snapshot in enumerate(snapshots):\n",
    "    print(\"\\t\",I,snapshot)\n",
    "    actions.addAction(OpenScene,filename=snapshot)\n",
    "    actions.addAction(DropSelection)\n",
    "    actions.addAction(HideDatasetBounds,uuid=\"dataset\")\n",
    "    actions.addAction(HideDatasetBounds,uuid=\"dataset1\")\n",
    "    actions.addAction(HideDatasetBounds,uuid=\"modelview2\")\n",
    "    actions.addAction(HideDatasetBounds,uuid=\"modleview1\")\n",
    "    actions.addAction(HideDatasetBounds,uuid=\"glcamera\")\n",
    "    actions.addAction(HideDatasetBounds,uuid=\"dataset_time\")\n",
    "    actions.addAction(HideDatasetBounds,uuid=\"slice\")\n",
    "    actions.addAction(HideDatasetBounds,uuid=\"slice3\")\n",
    "    actions.addAction(HideDatasetBounds,uuid=\"volume\")\n",
    "    actions.addAction(HideDatasetBounds,uuid=\"modelview\")\n",
    "    actions.addAction(HideDatasetBounds,uuid=\"isocontour1\")\n",
    "    actions.addAction(HideDatasetBounds,uuid=\"slice_field\")\n",
    "    actions.addAction(HideDatasetBounds,uuid=\"dataset\")\n",
    "    actions.addAction(HideDatasetBounds,uuid=\"dataset\")\n",
    "    actions.addAction(HideDatasetBounds,uuid=\"dataset\")\n",
    "    actions.addAction(HideDatasetBounds,uuid=\"dataset\")\n",
    "    actions.addAction(HideDatasetBounds,uuid=\"dataset\")\n",
    "    actions.addAction(HideDatasetBounds,uuid=\"dataset\")\n",
    "    actions.addAction(TakeSnapshot,filename=os.path.splitext(snapshot)[0] + \".png\")\n",
    "    \n",
    "    # you can add some sleep between actions but it's not necessary\n",
    "    # automatically it can wait for the viewer to become idle\n",
    "    actions.addSleep(15000) \n",
    "    \n",
    "actions.start()"
   ]
  },
  {
   "cell_type": "markdown",
   "metadata": {},
   "source": [
    "# Recreate Individual Frames"
   ]
  },
  {
   "cell_type": "code",
   "execution_count": 21,
   "metadata": {},
   "outputs": [],
   "source": [
    "# create single frame\n",
    "# important to create the viewer in a different cell otherwise it won't get the focus\n",
    "viewer=CreateViewer()"
   ]
  },
  {
   "cell_type": "code",
   "execution_count": 22,
   "metadata": {},
   "outputs": [
    {
     "name": "stdout",
     "output_type": "stream",
     "text": [
      "\t 0 D:\\_PANIA_NEW_DATA\\animation\\2-datsets-side-by-side-frame.026.xml\n",
      "*** OpenScene D:\\_PANIA_NEW_DATA\\animation\\2-datsets-side-by-side-frame.026.xml\n",
      "*** DropSelection\n",
      "2022-04-30 23:23:05.814388 PyScriptingNode Got in input (1, 63, 49) uint8 origin Slice 2022-04-30 23:23:05.817388 PyScriptingNode Got in input (28, 32, 63) uint8 origin IsoContour \n",
      "\n",
      "2022-04-30 23:23:05.820388 PyScriptingNode Got in input (1, 63, 124) uint8 origin Slice \n",
      "2022-04-30 23:23:05.822389 PyScriptingNode Output is  (1, 63, 124) uint8 msec 2 \n",
      "2022-04-30 23:23:05.822889 PyScriptingNode Output is  (1, 63, 49) uint8 msec 9 \n",
      "(28, 32, 63)\n",
      "2022-04-30 23:23:05.827389 PyScriptingNode Output is  (28, 32, 63) float32 msec 10 \n",
      "2022-04-30 23:23:06.312975 PyScriptingNode Got in input (55, 63, 125) uint8 origin IsoContour 2022-04-30 23:23:06.315475 PyScriptingNode Got in input (32, 17, 63) uint8 origin Volume 2022-04-30 23:23:06.317475 PyScriptingNode Got in input (1, 64, 128) uint8 origin Slice \n",
      "\n",
      "2022-04-30 23:23:06.319976 PyScriptingNode Output is  (1, 64, 128) uint8 msec 3 \n",
      "\n",
      "2022-04-30 23:23:06.319976 PyScriptingNode Output is  (32, 17, 63) uint8 msec 5 \n",
      "(55, 63, 125)\n",
      "2022-04-30 23:23:06.537514 PyScriptingNode Output is  (55, 63, 125) float32 msec 224 \n",
      "2022-04-30 23:23:06.683039 PyScriptingNode Got in input (1, 252, 196) uint8 origin Slice \n",
      "2022-04-30 23:23:06.687040 PyScriptingNode Output is  (1, 252, 196) uint8 msec 4 \n",
      "2022-04-30 23:23:06.688040 PyScriptingNode Got in input (1, 252, 370) uint8 origin Slice \n",
      "2022-04-30 23:23:06.692041 PyScriptingNode Output is  (1, 252, 370) uint8 msec 4 \n",
      "2022-04-30 23:23:06.692541 PyScriptingNode Got in input (125, 67, 250) uint8 origin Volume \n",
      "2022-04-30 23:23:06.696542 PyScriptingNode Output is  (125, 67, 250) uint8 msec 4 \n",
      "2022-04-30 23:23:06.698542 PyScriptingNode Got in input (110, 125, 250) uint8 origin IsoContour \n",
      "2022-04-30 23:23:06.705543 PyScriptingNode Got in input (1, 256, 512) uint8 origin Slice \n",
      "2022-04-30 23:23:06.711544 PyScriptingNode Output is  (1, 256, 512) uint8 msec 6 \n",
      "(110, 125, 250)\n",
      "2022-04-30 23:23:06.871573 PyScriptingNode Output is  (110, 125, 250) float32 msec 173 \n",
      "2022-04-30 23:23:07.036102 PyScriptingNode Got in input (1, 504, 393) uint8 origin Slice \n",
      "2022-04-30 23:23:07.040102 PyScriptingNode Output is  (1, 504, 393) uint8 msec 4 \n",
      "2022-04-30 23:23:07.040602 PyScriptingNode Got in input (1, 505, 370) uint8 origin Slice \n",
      "2022-04-30 23:23:07.045603 PyScriptingNode Got in input (250, 134, 500) uint8 origin Volume \n",
      "2022-04-30 23:23:07.049603 PyScriptingNode Output is  (1, 505, 370) uint8 msec 5 \n",
      "2022-04-30 23:23:07.050103 PyScriptingNode Output is  (250, 134, 500) uint8 msec 5 \n",
      "2022-04-30 23:23:07.051104 PyScriptingNode Got in input (219, 500, 500) uint8 origin IsoContour \n",
      "2022-04-30 23:23:07.055104 PyScriptingNode Got in input (1, 512, 548) uint8 origin Slice \n",
      "2022-04-30 23:23:07.059606 PyScriptingNode Output is  (1, 512, 548) uint8 msec 4 \n",
      "2022-04-30 23:23:07.487679 PyScriptingNode Got in input (1, 675, 548) uint8 origin Slice \n",
      "2022-04-30 23:23:07.489681 PyScriptingNode Output is  (1, 675, 548) uint8 msec 1 \n",
      "2022-04-30 23:23:07.489681 PyScriptingNode Got in input (500, 268, 1000) uint8 origin Volume \n",
      "2022-04-30 23:23:07.491681 PyScriptingNode Output is  (500, 268, 1000) uint8 msec 3 \n",
      "2022-04-30 23:23:07.736224 PyScriptingNode Got in input (1, 767, 370) uint8 origin Slice 2022-04-30 23:23:07.739725 PyScriptingNode Got in input (1, 704, 548) uint8 origin Slice \n",
      "2022-04-30 23:23:07.742224 PyScriptingNode Output is  (1, 767, 370) uint8 msec 6 \n",
      "2022-04-30 23:23:07.742224 PyScriptingNode Output is  (1, 704, 548) uint8 msec 3 \n",
      "\n",
      "(219, 500, 500)\n",
      "2022-04-30 23:23:08.238311 PyScriptingNode Output is  (219, 500, 500) float32 msec 1187 \n",
      "*** HideDatasetBounds dataset\n",
      "*** HideDatasetBounds dataset1\n",
      "*** HideDatasetBounds modelview2\n",
      "Failed to find a node with uuid modelview2\n",
      "*** HideDatasetBounds modleview1\n",
      "Failed to find a node with uuid modleview1\n",
      "*** HideDatasetBounds glcamera\n",
      "Failed to find a node with uuid glcamera\n",
      "*** HideDatasetBounds dataset_time\n",
      "Failed to find a node with uuid dataset_time\n",
      "*** HideDatasetBounds slice\n",
      "Failed to find a node with uuid slice\n",
      "*** HideDatasetBounds slice3\n",
      "Failed to find a node with uuid slice3\n",
      "*** HideDatasetBounds volume\n",
      "Failed to find a node with uuid volume\n",
      "*** HideDatasetBounds modelview\n",
      "Failed to find a node with uuid modelview\n",
      "*** HideDatasetBounds isocontour1\n",
      "Failed to find a node with uuid isocontour1\n",
      "*** HideDatasetBounds slice_field\n",
      "Failed to find a node with uuid slice_field\n",
      "*** HideDatasetBounds dataset\n",
      "*** HideDatasetBounds dataset\n",
      "*** HideDatasetBounds dataset\n",
      "*** HideDatasetBounds dataset\n",
      "*** HideDatasetBounds dataset\n",
      "*** HideDatasetBounds dataset\n",
      "*** TakeSnapshotAction D:\\_PANIA_NEW_DATA\\animation\\2-datsets-side-by-side-frame.026.png\n",
      "*** Sleep 15000\n"
     ]
    }
   ],
   "source": [
    "snapshots=sorted(glob.glob(r\"D:\\_PANIA_NEW_DATA\\animation\\2-datsets-side-by-side-frame.026.xml\"))\n",
    "\n",
    "# limit for debugging...\n",
    "#snapshots=snapshots[:4] \n",
    "\n",
    "actions=RunActions()\n",
    "for I,snapshot in enumerate(snapshots):\n",
    "    print(\"\\t\",I,snapshot)\n",
    "    actions.addAction(OpenScene,filename=snapshot)\n",
    "    actions.addAction(DropSelection)\n",
    "    actions.addAction(HideDatasetBounds,uuid=\"dataset\")\n",
    "    actions.addAction(HideDatasetBounds,uuid=\"dataset1\")\n",
    "    actions.addAction(HideDatasetBounds,uuid=\"modelview2\")\n",
    "    actions.addAction(HideDatasetBounds,uuid=\"modleview1\")\n",
    "    actions.addAction(HideDatasetBounds,uuid=\"glcamera\")\n",
    "    actions.addAction(HideDatasetBounds,uuid=\"dataset_time\")\n",
    "    actions.addAction(HideDatasetBounds,uuid=\"slice\")\n",
    "    actions.addAction(HideDatasetBounds,uuid=\"slice3\")\n",
    "    actions.addAction(HideDatasetBounds,uuid=\"volume\")\n",
    "    actions.addAction(HideDatasetBounds,uuid=\"modelview\")\n",
    "    actions.addAction(HideDatasetBounds,uuid=\"isocontour1\")\n",
    "    actions.addAction(HideDatasetBounds,uuid=\"slice_field\")\n",
    "    actions.addAction(HideDatasetBounds,uuid=\"dataset\")\n",
    "    actions.addAction(HideDatasetBounds,uuid=\"dataset\")\n",
    "    actions.addAction(HideDatasetBounds,uuid=\"dataset\")\n",
    "    actions.addAction(HideDatasetBounds,uuid=\"dataset\")\n",
    "    actions.addAction(HideDatasetBounds,uuid=\"dataset\")\n",
    "    actions.addAction(HideDatasetBounds,uuid=\"dataset\")\n",
    "    actions.addAction(TakeSnapshot,filename=os.path.splitext(snapshot)[0] + \".png\")\n",
    "    \n",
    "    # you can add some sleep between actions but it's not necessary\n",
    "    # automatically it can wait for the viewer to become idle\n",
    "    actions.addSleep(15000) \n",
    "    \n",
    "actions.start()"
   ]
  },
  {
   "cell_type": "markdown",
   "metadata": {},
   "source": [
    "# Create the Video"
   ]
  },
  {
   "cell_type": "markdown",
   "metadata": {},
   "source": [
    "Create Video"
   ]
  },
  {
   "cell_type": "code",
   "execution_count": 28,
   "metadata": {},
   "outputs": [
    {
     "name": "stdout",
     "output_type": "stream",
     "text": [
      "['D:\\\\_PANIA_NEW_DATA\\\\animation\\\\2-datsets-side-by-side-frame.027.png', 'D:\\\\_PANIA_NEW_DATA\\\\animation\\\\2-datsets-side-by-side-frame.026.png', 'D:\\\\_PANIA_NEW_DATA\\\\animation\\\\2-datsets-side-by-side-frame.025.png', 'D:\\\\_PANIA_NEW_DATA\\\\animation\\\\2-datsets-side-by-side-frame.024.png', 'D:\\\\_PANIA_NEW_DATA\\\\animation\\\\2-datsets-side-by-side-frame.023.png', 'D:\\\\_PANIA_NEW_DATA\\\\animation\\\\2-datsets-side-by-side-frame.022.png', 'D:\\\\_PANIA_NEW_DATA\\\\animation\\\\2-datsets-side-by-side-frame.021.png', 'D:\\\\_PANIA_NEW_DATA\\\\animation\\\\2-datsets-side-by-side-frame.020.png', 'D:\\\\_PANIA_NEW_DATA\\\\animation\\\\2-datsets-side-by-side-frame.019.png', 'D:\\\\_PANIA_NEW_DATA\\\\animation\\\\2-datsets-side-by-side-frame.018.png', 'D:\\\\_PANIA_NEW_DATA\\\\animation\\\\2-datsets-side-by-side-frame.017.png', 'D:\\\\_PANIA_NEW_DATA\\\\animation\\\\2-datsets-side-by-side-frame.016.png', 'D:\\\\_PANIA_NEW_DATA\\\\animation\\\\2-datsets-side-by-side-frame.015.png', 'D:\\\\_PANIA_NEW_DATA\\\\animation\\\\2-datsets-side-by-side-frame.014.png', 'D:\\\\_PANIA_NEW_DATA\\\\animation\\\\2-datsets-side-by-side-frame.013.png', 'D:\\\\_PANIA_NEW_DATA\\\\animation\\\\2-datsets-side-by-side-frame.012.png', 'D:\\\\_PANIA_NEW_DATA\\\\animation\\\\2-datsets-side-by-side-frame.011.png', 'D:\\\\_PANIA_NEW_DATA\\\\animation\\\\2-datsets-side-by-side-frame.010.png', 'D:\\\\_PANIA_NEW_DATA\\\\animation\\\\2-datsets-side-by-side-frame.009.png', 'D:\\\\_PANIA_NEW_DATA\\\\animation\\\\2-datsets-side-by-side-frame.008.png', 'D:\\\\_PANIA_NEW_DATA\\\\animation\\\\2-datsets-side-by-side-frame.007.png', 'D:\\\\_PANIA_NEW_DATA\\\\animation\\\\2-datsets-side-by-side-frame.006.png', 'D:\\\\_PANIA_NEW_DATA\\\\animation\\\\2-datsets-side-by-side-frame.005.png', 'D:\\\\_PANIA_NEW_DATA\\\\animation\\\\2-datsets-side-by-side-frame.004.png', 'D:\\\\_PANIA_NEW_DATA\\\\animation\\\\2-datsets-side-by-side-frame.003.png', 'D:\\\\_PANIA_NEW_DATA\\\\animation\\\\2-datsets-side-by-side-frame.002.png', 'D:\\\\_PANIA_NEW_DATA\\\\animation\\\\2-datsets-side-by-side-frame.001.png', 'D:\\\\_PANIA_NEW_DATA\\\\animation\\\\2-datsets-side-by-side-frame.000.png']\n",
      "Moviepy - Building video D:\\_PANIA_NEW_DATA\\animation\\datsets-pania-side-by-side.mp4.\n",
      "Moviepy - Writing video D:\\_PANIA_NEW_DATA\\animation\\datsets-pania-side-by-side.mp4\n",
      "\n"
     ]
    },
    {
     "name": "stderr",
     "output_type": "stream",
     "text": [
      "                                                                                                                                                                                                       \r"
     ]
    },
    {
     "name": "stdout",
     "output_type": "stream",
     "text": [
      "Moviepy - Done !\n",
      "Moviepy - video ready D:\\_PANIA_NEW_DATA\\animation\\datsets-pania-side-by-side.mp4\n"
     ]
    }
   ],
   "source": [
    "from moviepy.editor import *\n",
    "\n",
    "files0 = sorted(glob.glob(r\"D:\\_PANIA_NEW_DATA\\animation\\2-datsets-side-by-side-frame*png\"))\n",
    "files1 = sorted(glob.glob(r\"D:\\_PANIA_NEW_DATA\\animation\\2-datsets-side-by-side-frame*png\"),reverse=True)\n",
    "\n",
    "files = files0 + files1 + files0 + files1 + files0 + files1 \n",
    "print (files1)\n",
    "\n",
    "clip = ImageSequenceClip(files, fps = 4) \n",
    "clip.write_videofile(r\"D:\\_PANIA_NEW_DATA\\animation\\datsets-pania-side-by-side.mp4\", fps = 24)"
   ]
  },
  {
   "cell_type": "code",
   "execution_count": null,
   "metadata": {},
   "outputs": [],
   "source": []
  },
  {
   "cell_type": "code",
   "execution_count": null,
   "metadata": {},
   "outputs": [],
   "source": []
  },
  {
   "cell_type": "code",
   "execution_count": null,
   "metadata": {},
   "outputs": [],
   "source": []
  },
  {
   "cell_type": "code",
   "execution_count": null,
   "metadata": {},
   "outputs": [],
   "source": []
  }
 ],
 "metadata": {
  "kernelspec": {
   "display_name": "Python 3",
   "language": "python",
   "name": "python3"
  },
  "language_info": {
   "codemirror_mode": {
    "name": "ipython",
    "version": 3
   },
   "file_extension": ".py",
   "mimetype": "text/x-python",
   "name": "python",
   "nbconvert_exporter": "python",
   "pygments_lexer": "ipython3",
   "version": "3.7.9"
  }
 },
 "nbformat": 4,
 "nbformat_minor": 5
}

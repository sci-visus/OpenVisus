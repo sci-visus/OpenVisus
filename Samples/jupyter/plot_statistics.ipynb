{
 "cells": [
  {
   "cell_type": "code",
   "execution_count": 1,
   "id": "5692257e",
   "metadata": {
    "scrolled": true
   },
   "outputs": [
    {
     "name": "stdout",
     "output_type": "stream",
     "text": [
      "Starting OpenVisus C:\\Python38\\lib\\site-packages\\OpenVisus\\__init__.py 3.8.0 (tags/v3.8.0:fa919fd, Oct 14 2019, 19:37:50) [MSC v.1916 64 bit (AMD64)] sys.version_info(major=3, minor=8, micro=0, releaselevel='final', serial=0) ...\n"
     ]
    }
   ],
   "source": [
    "%matplotlib notebook \n",
    "\n",
    "import random,threading,os,sys,asyncio\n",
    "from time import sleep\n",
    "import pandas as pd\n",
    "import numpy as np\n",
    "import ipympl\n",
    "from ipywidgets import interactive\n",
    "import matplotlib.pyplot as plt\n",
    "import threading\n",
    "\n",
    "from OpenVisus import *"
   ]
  },
  {
   "cell_type": "code",
   "execution_count": 2,
   "id": "13c2ad8c",
   "metadata": {},
   "outputs": [],
   "source": [
    "db=LoadDataset('http://atlantis.sci.utah.edu/mod_visus?dataset=2kbit1')\n",
    "logic_box=db.getLogicBox()\n",
    "dims=[logic_box[1][I]-logic_box[0][I] for I in range(3)]\n",
    "\n",
    "def ReadSlice(db,dir,offset,quality):\n",
    "    if dir==0:\n",
    "        data=db.read(x=[offset,offset+1], quality=quality)\n",
    "        return data[:,:,0]\n",
    "    elif dir==1:\n",
    "        data=db.read(y=[offset,offset+1], quality=quality)\n",
    "        return data[:,0,:]\n",
    "    else:\n",
    "        data=db.read(z=[offset,offset+1], quality=quality)\n",
    "        return data[0,:,:]"
   ]
  },
  {
   "cell_type": "code",
   "execution_count": 11,
   "id": "d29b710d",
   "metadata": {},
   "outputs": [
    {
     "data": {
      "image/png": "[encoded data removed]",
      "text/plain": [
       "<Figure size 432x288 with 1 Axes>"
      ]
     },
     "metadata": {
      "needs_background": "light"
     },
     "output_type": "display_data"
    }
   ],
   "source": [
    "# ///////////////////////////////////////////////////////////////////\n",
    "class PlotStatistics:\n",
    "    \n",
    "    # constructor\n",
    "    def __init__(self):\n",
    "        self.stats_thread=None\n",
    "        self.stats_stop_thread=False\n",
    "\n",
    "    # startStatistics\n",
    "    def startStatistics(self,db=None,dir=0,quality=0,stats_plot=None, stats_image=None, background=True):\n",
    "        \n",
    "        if background:\n",
    "            self.stats_stop_thread=False\n",
    "            self.stats_thread=threading.Thread(target=self.startStatistics,args=(db,dir,quality,stats_plot, stats_image,False))\n",
    "            self.stats_thread.start()     \n",
    "            return\n",
    "        \n",
    "        logic_box=db.getLogicBox()\n",
    "        dims=[logic_box[1][I]-logic_box[0][I] for I in range(3)]   \n",
    "        N=dims[dir]\n",
    "        \n",
    "        x=list(range(N))\n",
    "        y=[0]*N \n",
    "        \n",
    "        last_data=None\n",
    "        for offset in range(N):\n",
    "            \n",
    "            if self.stats_stop_thread:\n",
    "                return\n",
    "            \n",
    "            sleep(0.05) # to tune!\n",
    "            \n",
    "            try:\n",
    "                data=ReadSlice(db,dir,offset,quality)\n",
    "                last_data=data\n",
    "            except:\n",
    "                data=last_data\n",
    "\n",
    "            # count non zero pixels\n",
    "            y[offset]=np.count_nonzero((data>80)*255)  \n",
    "            \n",
    "            if stats_plot:\n",
    "                stats_plot.cla()\n",
    "                stats_plot.plot(x,y,color=\"blue\")\n",
    "                \n",
    "            if stats_image:\n",
    "                stats_plot.cla()\n",
    "                stats_plot.imshow(data, origin='lower',cmap='gray') \n",
    "            \n",
    "            if stats_plot or stats_image:\n",
    "                plt.draw()        \n",
    "        \n",
    "    # stopStatistics\n",
    "    def stopStatistics(self):\n",
    "        if self.stats_thread is None: return\n",
    "        self.stats_stop_thread=True\n",
    "        self.stats_thread.join()\n",
    "        self.stats_thread=None\n",
    "        \n",
    "\n",
    "_, stats_axs = plt.subplots()\n",
    "plt.show()        \n",
    "        \n",
    "plot=PlotStatistics()\n",
    "plot.startStatistics(db,dir=0,quality=-15,stats_plot=stats_axs,stats_image=None)\n",
    "# plot.stopStatistics()"
   ]
  },
  {
   "cell_type": "code",
   "execution_count": null,
   "id": "a6e3bcf2",
   "metadata": {},
   "outputs": [],
   "source": []
  }
 ],
 "metadata": {
  "kernelspec": {
   "display_name": "Python 3 (ipykernel)",
   "language": "python",
   "name": "python3"
  },
  "language_info": {
   "codemirror_mode": {
    "name": "ipython",
    "version": 3
   },
   "file_extension": ".py",
   "mimetype": "text/x-python",
   "name": "python",
   "nbconvert_exporter": "python",
   "pygments_lexer": "ipython3",
   "version": "3.8.0"
  }
 },
 "nbformat": 4,
 "nbformat_minor": 5
}

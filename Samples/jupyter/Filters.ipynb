{
 "cells": [
  {
   "cell_type": "markdown",
   "metadata": {},
   "source": [
    "# Example about OpenVisus filters"
   ]
  },
  {
   "cell_type": "markdown",
   "metadata": {},
   "source": [
    "Import OpenVisus and define utils:"
   ]
  },
  {
   "cell_type": "code",
   "execution_count": 52,
   "metadata": {},
   "outputs": [],
   "source": [
    "import os,sys\n",
    "import numpy as np\n",
    "from PIL import Image\n",
    "from urllib.request import urlopen\n",
    "import matplotlib.pyplot as plt\n",
    "import shutil\n",
    "\n",
    "# import OpenVisus\n",
    "# sys.path.append(r\"C:\\projects\\OpenVisus\\build\\RelWithDebInfo\")\n",
    "from OpenVisus import *\n",
    "\n",
    "# utility\n",
    "def LoadImage(filename):\n",
    "\tif filename.startswith('http'):\n",
    "\t\tfilename=urlopen(filename) \n",
    "\treturn numpy.asarray(Image.open(filename))\n",
    "\n",
    "# utility\n",
    "def ShowImage(data,width=10):\n",
    "\tratio=float(data.shape[1])/data.shape[0]\n",
    "\tfig = plt.figure(figsize = (width,width*ratio))\n",
    "\tax = fig.add_subplot(1,1,1)\n",
    "\tax.imshow(data, origin='lower',cmap='viridis')\n",
    "\tplt.show()"
   ]
  },
  {
   "cell_type": "markdown",
   "metadata": {},
   "source": [
    "Import your source data:"
   ]
  },
  {
   "cell_type": "code",
   "execution_count": 53,
   "metadata": {},
   "outputs": [
    {
     "name": "stdout",
     "output_type": "stream",
     "text": [
      "Loaded data (1388, 389, 1407, 1) float32\n"
     ]
    }
   ],
   "source": [
    "dtype=np.float32\n",
    "width,height,depth=1407,389,1388\n",
    "num_channels=1\n",
    "\n",
    "bGenerateFakeData=True\n",
    "\n",
    "if bGenerateFakeData:\n",
    "    # example of generating fake data (a white square in the middle)\n",
    "    data = np.zeros((depth, height, width,num_channels), dtype)\n",
    "    data[int(depth*1/4):int(depth*3/4),int(height*1/4):int(height*3/4),int(width*1/4):int(width*3/4), 0] = 1.0\n",
    "else:\n",
    "    # example of loading a file from *.raw file\n",
    "    filename=r'volume_1407x389x1388_float32.raw'\n",
    "    data = np.fromfile(filename, dtype=dtype).reshape((depth, height, width, num_channels))\n",
    "\n",
    "print(\"Loaded data\",data.shape,data.dtype)\n",
    "#ShowImage(data[int(depth/2),:,:,0])"
   ]
  },
  {
   "cell_type": "markdown",
   "metadata": {},
   "source": [
    "About filters:\n",
    "- `identity` does NOT need an extra channel\n",
    "- `min` | `max` needs an extra channel (this about this: when I apply the inverse filter I need a way to know the original ordering)\n",
    "- discrete  `wavelet` (intXX)  needs an extra channel\n",
    "- continuos `wavelet` (floatXX) does NOT need an extra channel\n",
    "\n",
    "I need an extra channle for `max` filter:"
   ]
  },
  {
   "cell_type": "code",
   "execution_count": 54,
   "metadata": {},
   "outputs": [
    {
     "name": "stdout",
     "output_type": "stream",
     "text": [
      "Extra channel added (1388, 389, 1407, 2) float32\n"
     ]
    }
   ],
   "source": [
    "num_channels+=1\n",
    "new_data=numpy.zeros((depth, height, width, num_channels),dtype=data.dtype)\n",
    "new_data[:,:,:,0]=data[:,:,:,0]\n",
    "data=new_data\n",
    "print(\"Extra channel added\", data.shape, data.dtype)"
   ]
  },
  {
   "cell_type": "markdown",
   "metadata": {},
   "source": [
    "Create the IDX directory from data. \n",
    "Note we are disabling compression here (`raw`) since `zip` is really slow. But in production you may want to use `zip` or `lz4`."
   ]
  },
  {
   "cell_type": "code",
   "execution_count": 56,
   "metadata": {},
   "outputs": [
    {
     "name": "stdout",
     "output_type": "stream",
     "text": [
      "Creating idx...\n",
      "Writing data...\n",
      "idx file created\n"
     ]
    }
   ],
   "source": [
    "idx_filename='tmp/honeycomb_max_py.idx'\n",
    "print(\"Creating idx...\")\n",
    "compression=\"raw\"\n",
    "\n",
    "bDataInMemory=False\n",
    "\n",
    "# remove old directory if exists\n",
    "shutil.rmtree(os.path.dirname(idx_filename), ignore_errors=True)\n",
    "\n",
    "# example of writing data already in memory\n",
    "if bDataInMemory:\n",
    "    db = CreateIdx(\n",
    "        url=idx_filename, \n",
    "        dim=3, \n",
    "        data=data, \n",
    "        filters=['max'],\n",
    "        compression=compression)\n",
    "\n",
    "# example of writing data slice by slice (i.e. data not fitting in memory)\n",
    "else:\n",
    "    field=Field.fromString(\"DATA float32[{}] default_layout(row_major)\".format(num_channels))\n",
    "    db = CreateIdx(\n",
    "        url=idx_filename, \n",
    "        dim=3, \n",
    "        dims=(width,height,depth),\n",
    "        filters=['max'],\n",
    "        fields=[field],\n",
    "        compression=compression) \n",
    "    \n",
    "    # # z y x channel\n",
    "    # NOTE: if you have a row-major file here you need to read the file in place and return the data\n",
    "    def generateSlices():\n",
    "        for I in range(depth): \n",
    "            #print(\"Generating slice\",I)\n",
    "            yield data[I,:,:,:] \n",
    "\n",
    "    # NOTE: internally writeSlabs will accumulate slices up to some max_memsizse to maximize conversion speed\n",
    "    GB=1024*1024*1024\n",
    "    db.writeSlabs(generateSlices(),max_memsize=4*GB)\n",
    "\n",
    "print(\"idx file created\")"
   ]
  },
  {
   "cell_type": "markdown",
   "metadata": {},
   "source": [
    "Compute filter using a \"sliding window\" (sliding_box will be sliding_window^dim)"
   ]
  },
  {
   "cell_type": "code",
   "execution_count": 48,
   "metadata": {},
   "outputs": [
    {
     "name": "stdout",
     "output_type": "stream",
     "text": [
      "Computing filter...\n",
      "Filter computed\n"
     ]
    }
   ],
   "source": [
    "print(\"Computing filter...\")\n",
    "sliding_window=1024\n",
    "db.computeFilter(idx.getField(), sliding_window)\n",
    "print(\"done\")"
   ]
  },
  {
   "cell_type": "code",
   "execution_count": 60,
   "metadata": {},
   "outputs": [
    {
     "data": {
      "image/png": "[encoded data removed]",
      "text/plain": [
       "<Figure size 720x2586.12 with 1 Axes>"
      ]
     },
     "metadata": {
      "needs_background": "light"
     },
     "output_type": "display_data"
    },
    {
     "data": {
      "image/png": "[encoded data removed]",
      "text/plain": [
       "<Figure size 720x2586.12 with 1 Axes>"
      ]
     },
     "metadata": {
      "needs_background": "light"
     },
     "output_type": "display_data"
    },
    {
     "data": {
      "image/png": "[encoded data removed]",
      "text/plain": [
       "<Figure size 720x2599.38 with 1 Axes>"
      ]
     },
     "metadata": {
      "needs_background": "light"
     },
     "output_type": "display_data"
    },
    {
     "data": {
      "image/png": "[encoded data removed]",
      "text/plain": [
       "<Figure size 720x2604.22 with 1 Axes>"
      ]
     },
     "metadata": {
      "needs_background": "light"
     },
     "output_type": "display_data"
    }
   ],
   "source": [
    "\"\"\"\n",
    "in general read will return a 3D region with 2 channels\n",
    "you need to \n",
    "    (*) get the first slice in Z of the the 3D block\n",
    "    (*) get the first channel (==drop the filter extra channel) \n",
    "\"\"\" \n",
    "middle=int(depth/2)\n",
    "for img in db.read(z=[middle,middle+1],num_refinements=4):\n",
    "    ShowImage(img[0,:,:,0] )"
   ]
  },
  {
   "cell_type": "code",
   "execution_count": null,
   "metadata": {},
   "outputs": [],
   "source": []
  }
 ],
 "metadata": {
  "kernelspec": {
   "display_name": "Python 3",
   "language": "python",
   "name": "python3"
  },
  "language_info": {
   "codemirror_mode": {
    "name": "ipython",
    "version": 3
   },
   "file_extension": ".py",
   "mimetype": "text/x-python",
   "name": "python",
   "nbconvert_exporter": "python",
   "pygments_lexer": "ipython3",
   "version": "3.8.6"
  }
 },
 "nbformat": 4,
 "nbformat_minor": 4
}

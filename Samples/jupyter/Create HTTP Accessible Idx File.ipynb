{
 "cells": [
  {
   "cell_type": "code",
   "execution_count": 14,
   "id": "d7b27606",
   "metadata": {},
   "outputs": [],
   "source": [
    "import http.server\n",
    "import threading\n",
    "import numpy as np\n",
    "import urllib.request\n",
    "\n",
    "# sys.path.append(r\"C:\\projects\\OpenVisus\\build22\\RelWithDebInfo\")\n",
    "import OpenVisus as ov"
   ]
  },
  {
   "cell_type": "code",
   "execution_count": 5,
   "id": "10aae364",
   "metadata": {},
   "outputs": [],
   "source": [
    "urllib.request.urlretrieve('https://klacansky.com/open-scivis-datasets/hydrogen_atom/hydrogen_atom_128x128x128_uint8.raw', 'hydrogen_atom_128x128x128_uint8.raw')\n",
    "data = np.fromfile('hydrogen_atom_128x128x128_uint8.raw', dtype=np.uint8).reshape(128, 128, 128)"
   ]
  },
  {
   "cell_type": "code",
   "execution_count": 6,
   "id": "781c0599",
   "metadata": {},
   "outputs": [],
   "source": [
    "import shutil\n",
    "shutil.rmtree(\"./hydrogen_atom\",ignore_errors=True) \n",
    "db = ov.CreateIdx(\n",
    "  url=\"hydrogen_atom.idx\", \n",
    "  dims=list(reversed(data.shape)), \n",
    "  fields=[ov.Field('data','uint8')], \n",
    "  arco='1mb')\n",
    "\n",
    "# NOTE: this will create internally a DiskAccess (because there is 'arco' directive)\n",
    "# DIsk access will create one-file per block. Meaning that you will have 2 files each of 1MB (128*128*128*sizeof(uint8)==2MiB)\n",
    "#\n",
    "# IMPORTANT: in writing mode the data is written UNCOMPRESSED to avoid multiple decompress/compress operations. \n",
    "# #          Remember to compress it before uploading to S3 or serving with -m http.server since the clients\n",
    "#            will assume the data has been compressed\n",
    "db.write(data)"
   ]
  },
  {
   "cell_type": "code",
   "execution_count": 7,
   "id": "93c4da5f",
   "metadata": {},
   "outputs": [],
   "source": [
    "# this step compress all blocks in ZIP (needed for read-client access!)\n",
    "db.compressDataset()"
   ]
  },
  {
   "cell_type": "code",
   "execution_count": 9,
   "id": "90d683e3",
   "metadata": {},
   "outputs": [],
   "source": [
    "# here you can start a server, or run from external doing `python3 -m http.server`\n",
    "def run(PORT = 8000):\n",
    "    Handler = http.server.SimpleHTTPRequestHandler\n",
    "    with http.server.socketserver.TCPServer((\"\", PORT), Handler) as httpd:\n",
    "        httpd.serve_forever()\n",
    "threading.Thread(target=run).start()"
   ]
  },
  {
   "cell_type": "code",
   "execution_count": 11,
   "id": "4ce7bf99",
   "metadata": {},
   "outputs": [
    {
     "name": "stderr",
     "output_type": "stream",
     "text": [
      "127.0.0.1 - - [28/Nov/2022 08:29:28] \"GET /tmp/hydrogen_atom.idx HTTP/1.1\" 200 -\n",
      "127.0.0.1 - - [28/Nov/2022 08:29:28] \"GET /tmp/hydrogen_atom/0/data/0000/0000/0000/0001.bin HTTP/1.1\" 200 -\n",
      "127.0.0.1 - - [28/Nov/2022 08:29:28] \"GET /tmp/hydrogen_atom/0/data/0000/0000/0000/0000.bin HTTP/1.1\" 200 -\n"
     ]
    }
   ],
   "source": [
    "# example of accessing the data using a simple HTTP server\n",
    "# IMPORANT: internally db.read will call createAccess that will create a `CloudStorageAccess` \n",
    "db = ov.LoadDataset('http://localhost:8000/hydrogen_atom.idx')\n",
    "data_ = db.read()"
   ]
  },
  {
   "cell_type": "code",
   "execution_count": 12,
   "id": "aafe6c33",
   "metadata": {},
   "outputs": [],
   "source": [
    "assert (data == data_).all()"
   ]
  }
 ],
 "metadata": {
  "kernelspec": {
   "display_name": "Python 3.9.11 64-bit",
   "language": "python",
   "name": "python3"
  },
  "language_info": {
   "codemirror_mode": {
    "name": "ipython",
    "version": 3
   },
   "file_extension": ".py",
   "mimetype": "text/x-python",
   "name": "python",
   "nbconvert_exporter": "python",
   "pygments_lexer": "ipython3",
   "version": "3.9.11"
  },
  "vscode": {
   "interpreter": {
    "hash": "81794d4967e6c3204c66dcd87b604927b115b27c00565d3d43f05ba2f3a2cb0d"
   }
  }
 },
 "nbformat": 4,
 "nbformat_minor": 5
}

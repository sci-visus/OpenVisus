{
 "cells": [
  {
   "attachments": {},
   "cell_type": "markdown",
   "id": "2d372de9",
   "metadata": {},
   "source": [
    "# Tutorial: Convert NETCDF files to OpenVisus\n",
    "\n",
    "## Python Setup\n",
    "\n",
    "Install Python packages:\n",
    "Note: if you need the OpenVisus Viewer, replace the `OpenVisusNoGui` python package with full fledged `OpenVisus`.\n",
    "\n",
    "```\n",
    "python -m pip install --upgrade pip\n",
    "python -m pip install OpenVisusNoGui openvisuspy xmltodict numpy colorcet netCDF4\n",
    "```\n",
    "\n",
    "Also you may want to install some NETCDF tools to verify, for example, a file version:\n",
    "\n",
    "```\n",
    "sudo apt install netcdf-bin\n",
    "ncdump -k psl_day_CNRM-CM6-1-HR_historical_r1i1p1f2_gr_20000101-20141231.nc\n",
    "netCDF-4\n",
    "```"
   ]
  },
  {
   "attachments": {},
   "cell_type": "markdown",
   "id": "01f19fc0",
   "metadata": {},
   "source": [
    "## Import OpenVisus and openvisuspy"
   ]
  },
  {
   "cell_type": "code",
   "execution_count": 3,
   "id": "76dfab06",
   "metadata": {},
   "outputs": [],
   "source": [
    "import os,sys,numpy as np\n",
    "\n",
    "# debug mode, uncomment for internal/developer mode only\n",
    "# sys.path.append(r\"C:\\projects\\OpenVisus\\build\\RelWithDebInfo\")\n",
    "# sys.path.append(r\"C:\\projects\\openvisuspy\\src\")\n",
    "\n",
    "import OpenVisus as ov\n",
    "import openvisuspy as ovy"
   ]
  },
  {
   "attachments": {},
   "cell_type": "markdown",
   "id": "0c46f76c",
   "metadata": {},
   "source": [
    "## Load the NETCDF file "
   ]
  },
  {
   "cell_type": "code",
   "execution_count": 4,
   "id": "cd8666c8",
   "metadata": {},
   "outputs": [],
   "source": [
    "import netCDF4 as nc\n",
    "ds = nc.Dataset('tas_day_CNRM-CM6-1-HR_historical_r1i1p1f2_gr_20000101-20141231.nc')"
   ]
  },
  {
   "attachments": {},
   "cell_type": "markdown",
   "id": "df733a28",
   "metadata": {},
   "source": [
    "## Inspect the NetCDF structure\n",
    "\n",
    "A NetCDF file has three basic parts: metadata, dimensions and variables. \n",
    "Variables contain both metadata and data. \n",
    "Print its structure"
   ]
  },
  {
   "cell_type": "code",
   "execution_count": 5,
   "id": "016705d8",
   "metadata": {},
   "outputs": [
    {
     "name": "stdout",
     "output_type": "stream",
     "text": [
      "<class 'netCDF4._netCDF4.Dataset'>\n",
      "root group (NETCDF4 data model, file format HDF5):\n",
      "    Conventions: CF-1.7 CMIP-6.2\n",
      "    creation_date: 2019-08-17T11:05:59Z\n",
      "    description: CMIP6 historical\n",
      "    title: CNRM-CM6-1-HR model output prepared for CMIP6 and CMIP / historical simulation\n",
      "    activity_id: CMIP\n",
      "    contact: contact.cmip@meteo.fr\n",
      "    data_specs_version: 01.00.21\n",
      "    dr2xml_version: 1.16\n",
      "    experiment_id: historical\n",
      "    experiment: all-forcing simulation of the recent past\n",
      "    external_variables: areacella\n",
      "    forcing_index: 2\n",
      "    frequency: day\n",
      "    further_info_url: https://furtherinfo.es-doc.org/CMIP6.CNRM-CERFACS.CNRM-CM6-1-HR.historical.none.r1i1p1f2\n",
      "    grid: data regridded to a 359 gaussian grid (360x720 latlon) from a native atmosphere T359l reduced gaussian grid\n",
      "    grid_label: gr\n",
      "    nominal_resolution: 50 km\n",
      "    initialization_index: 1\n",
      "    institution_id: CNRM-CERFACS\n",
      "    institution: CNRM (Centre National de Recherches Meteorologiques, Toulouse 31057, France), CERFACS (Centre Europeen de Recherche et de Formation Avancee en Calcul Scientifique, Toulouse 31057, France)\n",
      "    license: CMIP6 model data produced by CNRM-CERFACS is licensed under a Creative Commons Attribution-NonCommercial-ShareAlike 4.0 International License (https://creativecommons.org/licenses). Consult https://pcmdi.llnl.gov/CMIP6/TermsOfUse for terms of use governing CMIP6 output, including citation requirements and proper acknowledgment. Further information about this data, including some limitations, can be found via the further_info_url (recorded as a global attribute in this file) and at http://www.umr-cnrm.fr/cmip6/. The data producers and data providers make no warranty, either express or implied, including, but not limited to, warranties of merchantability and fitness for a particular purpose. All liabilities arising from the supply of the information (including any liability arising in negligence) are excluded to the fullest extent permitted by law.\n",
      "    mip_era: CMIP6\n",
      "    parent_experiment_id: p i C o n t r o l\n",
      "    parent_mip_era: CMIP6\n",
      "    parent_activity_id: C M I P\n",
      "    parent_source_id: CNRM-CM6-1-HR\n",
      "    parent_time_units: days since 1850-01-01 00:00:00\n",
      "    parent_variant_label: r1i1p1f2\n",
      "    branch_method: standard\n",
      "    branch_time_in_parent: 0.0\n",
      "    branch_time_in_child: 0.0\n",
      "    physics_index: 1\n",
      "    product: model-output\n",
      "    realization_index: 1\n",
      "    realm: atmos\n",
      "    references: http://www.umr-cnrm.fr/cmip6/references\n",
      "    source: CNRM-CM6-1-HR (2017):  aerosol: prescribed monthly fields computed by TACTIC_v2 scheme atmos: Arpege 6.3 (T359; Gaussian Reduced with 181724 grid points in total distributed over 360 latitude circles (with 720 grid points per latitude circle between 32.2degN and 32.2degS reducing to 18 grid points per latitude circle at 89.6degN and 89.6degS); 91 levels; top level 78.4 km) atmosChem: OZL_v2 land: Surfex 8.0c ocean: Nemo 3.6 (eORCA025, tripolar primarily 1/4deg; 1442 x 1050 longitude/latitude; 75 levels; top grid cell 0-1 m) seaIce: Gelato 6.1\n",
      "    source_id: CNRM-CM6-1-HR\n",
      "    source_type: AOGCM\n",
      "    sub_experiment_id: none\n",
      "    sub_experiment: none\n",
      "    table_id: day\n",
      "    variable_id: tas\n",
      "    variant_label: r1i1p1f2\n",
      "    EXPID: historical_HR_s2\n",
      "    CMIP6_CV_version: cv=6.2.3.0-7-g2019642\n",
      "    dr2xml_md5sum: 45d4369d889ddfb8149d771d8625e9ec\n",
      "    xios_commit: 1442-shuffle\n",
      "    nemo_gelato_commit: 84a9e3f161dade7_8250e198106a168\n",
      "    arpege_minor_version: 6.3.3\n",
      "    history: none\n",
      "    tracking_id: hdl:21.14100/27c212f1-8891-4d79-815d-0eba4967f11c\n",
      "    dimensions(sizes): lat(360), lon(720), time(5479), axis_nbounds(2)\n",
      "    variables(dimensions): float64 lat(lat), float64 lon(lon), float64 height(), float64 time(time), float64 time_bounds(time, axis_nbounds), float32 tas(time, lat, lon)\n",
      "    groups: \n"
     ]
    }
   ],
   "source": [
    "print(ds)"
   ]
  },
  {
   "attachments": {},
   "cell_type": "markdown",
   "id": "4663caab",
   "metadata": {},
   "source": [
    "## Print the NetCDF **dimensions**"
   ]
  },
  {
   "cell_type": "code",
   "execution_count": 6,
   "id": "60397bcf",
   "metadata": {},
   "outputs": [
    {
     "name": "stdout",
     "output_type": "stream",
     "text": [
      "{'axis_nbounds': <class 'netCDF4._netCDF4.Dimension'>: name = 'axis_nbounds', size = 2,\n",
      " 'lat': <class 'netCDF4._netCDF4.Dimension'>: name = 'lat', size = 360,\n",
      " 'lon': <class 'netCDF4._netCDF4.Dimension'>: name = 'lon', size = 720,\n",
      " 'time': <class 'netCDF4._netCDF4.Dimension'> (unlimited): name = 'time', size = 5479}\n"
     ]
    }
   ],
   "source": [
    "from pprint import pprint\n",
    "pprint(ds.dimensions)"
   ]
  },
  {
   "attachments": {},
   "cell_type": "markdown",
   "id": "cf79d3cb",
   "metadata": {},
   "source": [
    "## Print  the NetCDF **variables**\n",
    "\n",
    "Variables contain binary data, to be converted later"
   ]
  },
  {
   "cell_type": "code",
   "execution_count": 7,
   "id": "953f2524",
   "metadata": {},
   "outputs": [
    {
     "name": "stdout",
     "output_type": "stream",
     "text": [
      "{'height': <class 'netCDF4._netCDF4.Variable'>\n",
      "float64 height()\n",
      "    name: height\n",
      "    standard_name: height\n",
      "    long_name: height\n",
      "    units: m\n",
      "    axis: Z\n",
      "    positive: up\n",
      "unlimited dimensions: \n",
      "current shape = ()\n",
      "filling on, default _FillValue of 9.969209968386869e+36 used,\n",
      " 'lat': <class 'netCDF4._netCDF4.Variable'>\n",
      "float64 lat(lat)\n",
      "    axis: Y\n",
      "    standard_name: latitude\n",
      "    long_name: Latitude\n",
      "    units: degrees_north\n",
      "unlimited dimensions: \n",
      "current shape = (360,)\n",
      "filling on, default _FillValue of 9.969209968386869e+36 used,\n",
      " 'lon': <class 'netCDF4._netCDF4.Variable'>\n",
      "float64 lon(lon)\n",
      "    axis: X\n",
      "    standard_name: longitude\n",
      "    long_name: Longitude\n",
      "    units: degrees_east\n",
      "unlimited dimensions: \n",
      "current shape = (720,)\n",
      "filling on, default _FillValue of 9.969209968386869e+36 used,\n",
      " 'tas': <class 'netCDF4._netCDF4.Variable'>\n",
      "float32 tas(time, lat, lon)\n",
      "    online_operation: average\n",
      "    cell_methods: area: time: mean\n",
      "    interval_operation: 900 s\n",
      "    interval_write: 1 d\n",
      "    _FillValue: 1e+20\n",
      "    missing_value: 1e+20\n",
      "    coordinates: height\n",
      "    standard_name: air_temperature\n",
      "    description: Near-Surface Air Temperature\n",
      "    long_name: Near-Surface Air Temperature\n",
      "    history: none\n",
      "    units: K\n",
      "    cell_measures: area: areacella\n",
      "unlimited dimensions: time\n",
      "current shape = (5479, 360, 720)\n",
      "filling on,\n",
      " 'time': <class 'netCDF4._netCDF4.Variable'>\n",
      "float64 time(time)\n",
      "    axis: T\n",
      "    standard_name: time\n",
      "    long_name: Time axis\n",
      "    calendar: gregorian\n",
      "    units: days since 1850-01-01 00:00:00\n",
      "    time_origin: 1850-01-01 00:00:00\n",
      "    bounds: time_bounds\n",
      "unlimited dimensions: time\n",
      "current shape = (5479,)\n",
      "filling on, default _FillValue of 9.969209968386869e+36 used,\n",
      " 'time_bounds': <class 'netCDF4._netCDF4.Variable'>\n",
      "float64 time_bounds(time, axis_nbounds)\n",
      "unlimited dimensions: time\n",
      "current shape = (5479, 2)\n",
      "filling on, default _FillValue of 9.969209968386869e+36 used}\n"
     ]
    }
   ],
   "source": [
    "from pprint import pprint\n",
    "pprint(ds.variables)"
   ]
  },
  {
   "attachments": {},
   "cell_type": "markdown",
   "id": "d6d7ba6f",
   "metadata": {},
   "source": [
    "## Choose the variable to convert \n",
    "\n",
    "The variable we are interested in converting is `tas` i.e. the *Near-Surface Air Temperature*"
   ]
  },
  {
   "cell_type": "code",
   "execution_count": 8,
   "id": "c0d7cb70",
   "metadata": {},
   "outputs": [
    {
     "name": "stdout",
     "output_type": "stream",
     "text": [
      "<class 'netCDF4._netCDF4.Variable'>\n",
      "float32 tas(time, lat, lon)\n",
      "    online_operation: average\n",
      "    cell_methods: area: time: mean\n",
      "    interval_operation: 900 s\n",
      "    interval_write: 1 d\n",
      "    _FillValue: 1e+20\n",
      "    missing_value: 1e+20\n",
      "    coordinates: height\n",
      "    standard_name: air_temperature\n",
      "    description: Near-Surface Air Temperature\n",
      "    long_name: Near-Surface Air Temperature\n",
      "    history: none\n",
      "    units: K\n",
      "    cell_measures: area: areacella\n",
      "unlimited dimensions: time\n",
      "current shape = (5479, 360, 720)\n",
      "filling on\n"
     ]
    }
   ],
   "source": [
    "var=ds.variables['tas']\n",
    "print(var)"
   ]
  },
  {
   "attachments": {},
   "cell_type": "markdown",
   "id": "c6952240",
   "metadata": {},
   "source": [
    "## Read the NetCDF binary  data in memory"
   ]
  },
  {
   "cell_type": "code",
   "execution_count": 9,
   "id": "189d17bd",
   "metadata": {},
   "outputs": [
    {
     "name": "stdout",
     "output_type": "stream",
     "text": [
      "NetCDF file loaded in 18.993003129959106 seconds dtype=float32 num_timesteps=5479 W=720 H=360 m=193.89527893066406 M=315.953125\n"
     ]
    }
   ],
   "source": [
    "import time\n",
    "t1 = time.time()\n",
    "data=var[:,:,:]\n",
    "num_timesteps,H,W=data.shape[0], data.shape[1], data.shape[2]\n",
    "m,M=np.min(data),np.max(data)\n",
    "read_sec=time.time()-t1\n",
    "print(f\"NetCDF file loaded in {read_sec} seconds dtype={data.dtype} num_timesteps={num_timesteps} W={W} H={H} m={m} M={M}\")"
   ]
  },
  {
   "attachments": {},
   "cell_type": "markdown",
   "id": "b1d561a9",
   "metadata": {},
   "source": [
    "## Create the OpenVisus file"
   ]
  },
  {
   "cell_type": "code",
   "execution_count": 10,
   "id": "6f16dabe",
   "metadata": {},
   "outputs": [
    {
     "name": "stdout",
     "output_type": "stream",
     "text": [
      "<dataset url=\"kyo/test2/visus.idx\" cache_dir=\"\" typename=\"IdxDataset\">\n",
      "\t<idxfile>\n",
      "\t\t<version value=\"6\" />\n",
      "\t\t<bitmask value=\"V0010101010101010101\" />\n",
      "\t\t<box value=\"0 720 0 360\" />\n",
      "\t\t<bitsperblock value=\"16\" />\n",
      "\t\t<blocksperfile value=\"8\" />\n",
      "\t\t<block_interleaving value=\"0\" />\n",
      "\t\t<filename_template value=\"./visus/%04x.bin\" />\n",
      "\t\t<missing_blocks value=\"False\" />\n",
      "\t\t<arco value=\"0\" />\n",
      "\t\t<time_template value=\"time_%04d/\" />\n",
      "\t\t<field name=\"data\" description=\"\" index=\"\" default_compression=\"\" default_layout=\"\" default_value=\"0\" filter=\"\" dtype=\"float32\" />\n",
      "\t\t<timestep from=\"0\" to=\"5479\" step=\"1\" />\n",
      "\t</idxfile>\n",
      "</dataset>\n",
      "Dataset created\n"
     ]
    }
   ],
   "source": [
    "arco=\"modvisus\"\n",
    "\n",
    "idx_filename=\"tmp/netcdf/tutorial-2/visus.idx\"\n",
    "db=ov.CreateIdx(\n",
    "    url=idx_filename, \n",
    "    dims=[W,H], \n",
    "    fields=[ov.Field(\"data\",str(data.dtype),\"row_major\")], \n",
    "    compression=\"raw\", \n",
    "    time=[0,num_timesteps,\"time_%04d/\"], \n",
    "    arco=arco)\n",
    "\n",
    "print(db.getDatasetBody().toString())\n",
    "print(\"Dataset created\")"
   ]
  },
  {
   "attachments": {},
   "cell_type": "markdown",
   "id": "0b3dfe6f",
   "metadata": {},
   "source": [
    "## Write uncompressed OpenVisus binary data  "
   ]
  },
  {
   "cell_type": "code",
   "execution_count": 11,
   "id": "822d9c09",
   "metadata": {},
   "outputs": [
    {
     "name": "stdout",
     "output_type": "stream",
     "text": [
      "Wrote new timestep=5478 done in 32.4378125667572 seconds\n"
     ]
    }
   ],
   "source": [
    "t1 = time.time()\n",
    "for timestep in range(num_timesteps):\n",
    "    db.write(data[timestep,:,:],time=timestep)\n",
    "write_sec=time.time() - t1\n",
    "print(f\"Wrote new timestep={timestep} done in {write_sec} seconds\")"
   ]
  },
  {
   "attachments": {},
   "cell_type": "markdown",
   "id": "2b5263d7",
   "metadata": {},
   "source": [
    "### Compress OpenVisus binary data \n",
    "\n",
    "NOTE that this step can be slow since it' doing a lot of random reading/writings. \n",
    "You may use `lz4` to speed up this step, but you will get bigger files."
   ]
  },
  {
   "cell_type": "code",
   "execution_count": 12,
   "id": "7f40d6c6",
   "metadata": {},
   "outputs": [
    {
     "name": "stdout",
     "output_type": "stream",
     "text": [
      "Compressed timestep=5478 done in 156.67065525054932 seconds\n"
     ]
    }
   ],
   "source": [
    "t1 = time.time()\n",
    "algorithm=\"zip\"\n",
    "db.compressDataset([algorithm])\n",
    "compress_sec=time.time()-t1\n",
    "print(f\"Compressed timestep={timestep} done in {compress_sec} seconds\")"
   ]
  },
  {
   "attachments": {},
   "cell_type": "markdown",
   "id": "08710a15",
   "metadata": {},
   "source": [
    "## Display a  Region of Interest\n",
    "\n",
    "Read data from OpenVisus at a certain timestep"
   ]
  },
  {
   "cell_type": "code",
   "execution_count": 13,
   "id": "f1b71e10",
   "metadata": {},
   "outputs": [],
   "source": [
    "data=db.read(x=[0,W],y=[0,H],time=num_timesteps//2)"
   ]
  },
  {
   "attachments": {},
   "cell_type": "markdown",
   "id": "e44ed6e0",
   "metadata": {},
   "source": [
    "Display the data using `matplotlib`:"
   ]
  },
  {
   "cell_type": "code",
   "execution_count": 14,
   "id": "e663ad76",
   "metadata": {},
   "outputs": [
    {
     "data": {
      "image/png": "[encoded data removed]",
      "text/plain": [
       "<Figure size 432x288 with 1 Axes>"
      ]
     },
     "metadata": {
      "needs_background": "light"
     },
     "output_type": "display_data"
    }
   ],
   "source": [
    "import matplotlib.pyplot as plt\n",
    "\n",
    "def ShowData(data):\n",
    "    ratio=float(data.shape[1])/data.shape[0]\n",
    "    fig = plt.figure()\n",
    "    ax = fig.add_subplot(1,1,1)\n",
    "    ax.imshow(data, origin='lower')\n",
    "    plt.show()\n",
    "        \n",
    "ShowData(data)"
   ]
  },
  {
   "attachments": {},
   "cell_type": "markdown",
   "id": "9da367da",
   "metadata": {},
   "source": [
    "## Final considerations\n",
    "\n",
    "We converted the binary data as a 2d Dataset `(lat,log)` with timestep considered as a special dimension. In fact you will see the data is internally organized in different folders depending on the timesteps (e.g. `visus\\time_0000\\0000.bin`, `visus\\time_0001\\0000.bin` etc.).  \n",
    "\n",
    "You may also convert the binary data as a full 3D dataset: `(time,lat,lon)`. This modality makes more sense if you need to access/display slices related to different timesteps, for example the evolution of the pressure at a certain `lon` for some time range. The variation to the code above are minimal."
   ]
  },
  {
   "cell_type": "code",
   "execution_count": null,
   "id": "e11ff35e",
   "metadata": {},
   "outputs": [],
   "source": []
  },
  {
   "cell_type": "code",
   "execution_count": null,
   "id": "f01ae3b1",
   "metadata": {},
   "outputs": [],
   "source": []
  }
 ],
 "metadata": {
  "kernelspec": {
   "display_name": "Python 3 (ipykernel)",
   "language": "python",
   "name": "python3"
  },
  "language_info": {
   "codemirror_mode": {
    "name": "ipython",
    "version": 3
   },
   "file_extension": ".py",
   "mimetype": "text/x-python",
   "name": "python",
   "nbconvert_exporter": "python",
   "pygments_lexer": "ipython3",
   "version": "3.8.0"
  }
 },
 "nbformat": 4,
 "nbformat_minor": 5
}

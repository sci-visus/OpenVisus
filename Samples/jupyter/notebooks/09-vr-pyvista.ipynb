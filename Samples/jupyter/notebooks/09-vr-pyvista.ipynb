{
 "cells": [
  {
   "cell_type": "markdown",
   "id": "6935afb8",
   "metadata": {},
   "source": [
    "# Import OpenVisus"
   ]
  },
  {
   "cell_type": "code",
   "execution_count": 1,
   "id": "502716f3",
   "metadata": {},
   "outputs": [
    {
     "name": "stdout",
     "output_type": "stream",
     "text": [
      "OpenVisus imported\n"
     ]
    }
   ],
   "source": [
    "import os,sys\n",
    "sys.path.append(r\"C:\\projects\\OpenVisus\\build\\RelWithDebInfo\")\n",
    "import OpenVisus as  ov\n",
    "from OpenVisus.dashboards import Slice,Slices\n",
    "from OpenVisus.pyquery import PyQuery\n",
    "os.environ[\"VISUS_NETSERVICE_VERBOSE\"]=\"0\"\n",
    "print(\"OpenVisus imported\")"
   ]
  },
  {
   "cell_type": "markdown",
   "id": "7cceb84a",
   "metadata": {},
   "source": [
    "# Load Dataset"
   ]
  },
  {
   "cell_type": "code",
   "execution_count": 2,
   "id": "497d0b07",
   "metadata": {},
   "outputs": [
    {
     "name": "stdout",
     "output_type": "stream",
     "text": [
      "\n",
      "Loaded dataset \n",
      "   url=http://atlantis.sci.utah.edu/mod_visus?dataset=2kbit1 \n",
      "   fields=['DATA'] \n",
      "   logic_box=([0, 0, 0], [2048, 2048, 2048])\n",
      "\n"
     ]
    }
   ],
   "source": [
    "url=f\"http://atlantis.sci.utah.edu/mod_visus?dataset=2kbit1&cached=1\"\n",
    "db=ov.LoadDataset(url)  \n",
    "print(f\"\"\"\n",
    "Loaded dataset \n",
    "   url={db.getUrl()} \n",
    "   fields={db.getFields()} \n",
    "   logic_box={db.getLogicBox()}\n",
    "\"\"\")\n",
    "W,H,D=db.getLogicBox()[1]"
   ]
  },
  {
   "cell_type": "markdown",
   "id": "23c0f58c",
   "metadata": {},
   "source": [
    "# Extract data"
   ]
  },
  {
   "cell_type": "code",
   "execution_count": 3,
   "id": "6155f76a",
   "metadata": {},
   "outputs": [
    {
     "name": "stdout",
     "output_type": "stream",
     "text": [
      "Got data shape=(128, 128, 128) dtype=uint8 msec=386\n"
     ]
    }
   ],
   "source": [
    "def ReadData(logic_box=None,max_pixels=128*128*128, timestep=None, verbose=True): \n",
    "    for it in PyQuery.read(db, logic_box=logic_box, timestep=timestep, max_pixels=max_pixels,num_refinements=1):\n",
    "        data=it['data']\n",
    "        msec=it['msec']\n",
    "        if verbose: print(f\"Got data shape={data.shape} dtype={data.dtype} msec={msec}\")\n",
    "        return data\n",
    "    return None\n",
    "\n",
    "data=ReadData(logic_box=[[0,0,0],[W,H,D]], timestep=0,max_pixels=128*128*128)"
   ]
  },
  {
   "cell_type": "markdown",
   "id": "b731a9f5",
   "metadata": {},
   "source": [
    "# Show volume in pyvista"
   ]
  },
  {
   "cell_type": "code",
   "execution_count": 4,
   "id": "e04d6ff0",
   "metadata": {},
   "outputs": [
    {
     "data": {
      "application/vnd.jupyter.widget-view+json": {
       "model_id": "1d7a899f743c4f8ea4e4d842790ec35d",
       "version_major": 2,
       "version_minor": 0
      },
      "text/plain": [
       "Widget(value=\"<iframe src='http://localhost:57441/index.html?ui=P_0x20edab94c10_0&reconnect=auto' style='width…"
      ]
     },
     "metadata": {},
     "output_type": "display_data"
    }
   ],
   "source": [
    "# !pip install pyvista trame\n",
    "import pyvista as pv\n",
    "p = pv.Plotter()\n",
    "p.add_volume(data)\n",
    "p.show()"
   ]
  },
  {
   "cell_type": "code",
   "execution_count": null,
   "id": "5ecc7b41",
   "metadata": {},
   "outputs": [],
   "source": []
  }
 ],
 "metadata": {
  "kernelspec": {
   "display_name": "Python 3 (ipykernel)",
   "language": "python",
   "name": "python3"
  },
  "language_info": {
   "codemirror_mode": {
    "name": "ipython",
    "version": 3
   },
   "file_extension": ".py",
   "mimetype": "text/x-python",
   "name": "python",
   "nbconvert_exporter": "python",
   "pygments_lexer": "ipython3",
   "version": "3.9.9"
  }
 },
 "nbformat": 4,
 "nbformat_minor": 5
}

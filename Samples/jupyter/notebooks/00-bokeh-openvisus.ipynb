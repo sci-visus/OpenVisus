{
 "cells": [
  {
   "cell_type": "markdown",
   "metadata": {},
   "source": [
    "# Import Bokeh\n",
    "\n",
    "Note: \n",
    "- the `ShowApp` function should take care of all proxy/jupyter hub problem\n",
    "- change configuration (i.e. `USE_PUBLIC_IP` and `SSH_TUNNELS`) as needed"
   ]
  },
  {
   "cell_type": "code",
   "execution_count": 8,
   "metadata": {},
   "outputs": [
    {
     "ename": "AttributeError",
     "evalue": "module 'bokeh.core.validation.warnings' has no attribute 'EQUAL_SLIDER_START_END'",
     "output_type": "error",
     "traceback": [
      "\u001b[1;31m---------------------------------------------------------------------------\u001b[0m",
      "\u001b[1;31mAttributeError\u001b[0m                            Traceback (most recent call last)",
      "Cell \u001b[1;32mIn[8], line 22\u001b[0m\n\u001b[0;32m     20\u001b[0m bokeh\u001b[38;5;241m.\u001b[39mcore\u001b[38;5;241m.\u001b[39mvalidation\u001b[38;5;241m.\u001b[39msilence(bokeh\u001b[38;5;241m.\u001b[39mcore\u001b[38;5;241m.\u001b[39mvalidation\u001b[38;5;241m.\u001b[39mwarnings\u001b[38;5;241m.\u001b[39mEMPTY_LAYOUT, \u001b[38;5;28;01mTrue\u001b[39;00m)\n\u001b[0;32m     21\u001b[0m bokeh\u001b[38;5;241m.\u001b[39mcore\u001b[38;5;241m.\u001b[39mvalidation\u001b[38;5;241m.\u001b[39msilence(bokeh\u001b[38;5;241m.\u001b[39mcore\u001b[38;5;241m.\u001b[39mvalidation\u001b[38;5;241m.\u001b[39mwarnings\u001b[38;5;241m.\u001b[39mFIXED_SIZING_MODE,\u001b[38;5;28;01mTrue\u001b[39;00m)\n\u001b[1;32m---> 22\u001b[0m bokeh\u001b[38;5;241m.\u001b[39mcore\u001b[38;5;241m.\u001b[39mvalidation\u001b[38;5;241m.\u001b[39msilence(\u001b[43mbokeh\u001b[49m\u001b[38;5;241;43m.\u001b[39;49m\u001b[43mcore\u001b[49m\u001b[38;5;241;43m.\u001b[39;49m\u001b[43mvalidation\u001b[49m\u001b[38;5;241;43m.\u001b[39;49m\u001b[43mwarnings\u001b[49m\u001b[38;5;241;43m.\u001b[39;49m\u001b[43mEQUAL_SLIDER_START_END\u001b[49m,\u001b[38;5;28;01mTrue\u001b[39;00m)\n\u001b[0;32m     23\u001b[0m bokeh\u001b[38;5;241m.\u001b[39mio\u001b[38;5;241m.\u001b[39moutput_notebook()\n\u001b[0;32m     25\u001b[0m \u001b[38;5;66;03m# in JypyterLab/JupyterHub we need to tell what is the proxy url\u001b[39;00m\n\u001b[0;32m     26\u001b[0m \u001b[38;5;66;03m# see https://docs.bokeh.org/en/3.0.3/docs/user_guide/output/jupyter.html\u001b[39;00m\n\u001b[0;32m     27\u001b[0m \u001b[38;5;66;03m# example: \u001b[39;00m\n",
      "\u001b[1;31mAttributeError\u001b[0m: module 'bokeh.core.validation.warnings' has no attribute 'EQUAL_SLIDER_START_END'"
     ]
    }
   ],
   "source": [
    "import os,sys,logging, urllib\n",
    "import urllib.request\n",
    "from pprint import pprint\n",
    "\n",
    "# this may be dangerous, only for local testing/debugging\n",
    "os.environ[\"BOKEH_ALLOW_WS_ORIGIN\"]=\"*\"\n",
    "\n",
    "# if you want more debug info\n",
    "os.environ[\"BOKEH_LOG_LEVEL\"]=\"debug\" \n",
    "\n",
    "import bokeh\n",
    "import bokeh.io \n",
    "import bokeh.io.notebook \n",
    "import bokeh.models.widgets  \n",
    "import bokeh.core.validation\n",
    "import bokeh.plotting\n",
    "import bokeh.core.validation.warnings\n",
    "import bokeh.layouts\n",
    "\n",
    "bokeh.core.validation.silence(bokeh.core.validation.warnings.EMPTY_LAYOUT, True)\n",
    "bokeh.core.validation.silence(bokeh.core.validation.warnings.FIXED_SIZING_MODE,True)\n",
    "bokeh.io.output_notebook()\n",
    "\n",
    "# in JypyterLab/JupyterHub we need to tell what is the proxy url\n",
    "# see https://docs.bokeh.org/en/3.0.3/docs/user_guide/output/jupyter.html\n",
    "# example: \n",
    "USE_PUBLIC_IP=False\n",
    "\n",
    "# change this if you need ssh-tunneling\n",
    "# see https://github.com/sci-visus/OpenVisus/blob/master/docs/ssh-tunnels.md\n",
    "SSH_TUNNELS=None\n",
    "\n",
    "# //////////////////////////////////////////////////////////////////////////////////////\n",
    "def ShowApp(app):\n",
    "    \n",
    "    if SSH_TUNNELS:\n",
    "        notebook_port,bokeh_port=SSH_TUNNELS\n",
    "        print(f\"ShowApp, enabling ssh tunnels notebook_port={notebook_port} bokeh_port={bokeh_port}\")\n",
    "        bokeh.io.notebook.show_app(app, bokeh.io.notebook.curstate(), f\"http://127.0.0.1:{notebook_port}\", port = bokeh_port) \n",
    "        \n",
    "    elif USE_PUBLIC_IP:\n",
    "        \n",
    "        # retrieve public IP (this is needed for front-end browser to reach bokeh server)\n",
    "        public_ip = urllib.request.urlopen('https://ident.me').read().decode('utf8')\n",
    "        print(f\"public_ip={public_ip}\")    \n",
    "        \n",
    "        if \"JUPYTERHUB_SERVICE_PREFIX\" in os.environ:\n",
    "\n",
    "            def GetJupyterHubNotebookUrl(port):\n",
    "                if port is None:\n",
    "                    ret=public_ip\n",
    "                    print(f\"GetJupyterHubNotebookUrl port={port} returning {ret}\")\n",
    "                    return ret\n",
    "                else:\n",
    "                    ret=f\"https://{public_ip}{os.environ['JUPYTERHUB_SERVICE_PREFIX']}proxy/{port}\"\n",
    "                    print(f\"GetJupyterHubNotebookUrl port={port} returning {ret}\")\n",
    "                    return ret     \n",
    "\n",
    "            bokeh.io.show(app, notebook_url=GetJupyterHubNotebookUrl)\n",
    "            \n",
    "        else:\n",
    "            # need the port (TODO: test), I assume I will get a non-ambiguos/unique port\n",
    "            import notebook.notebookapp\n",
    "            ports=list(set([it['port'] for it in notebook.notebookapp.list_running_servers()]))\n",
    "            assert(len(ports)==1)\n",
    "            port=ports[0]\n",
    "            notebook_url=f\"{public_ip}:{port}\" \n",
    "            print(f\"bokeh.io.show(app, notebook_url='{notebook_url}')\")\n",
    "            bokeh.io.show(app, notebook_url=notebook_url)\n",
    "    else:\n",
    "        bokeh.io.show(app) \n",
    "      \n",
    "# //////////////////////////////////////////////////////////////////////////////////////\n",
    "def TestBokehApp(doc):\n",
    "    fig = bokeh.plotting.figure(title=\"Multiple line example\", x_axis_label=\"x\", y_axis_label=\"y\",height=200)\n",
    "    fig.line([1, 2, 3, 4, 5], [6, 7, 2, 4, 5])\n",
    "    grid=bokeh.layouts.grid(children=[fig], nrows=1, ncols=1, sizing_mode='stretch_width') \n",
    "    main_layout=bokeh.layouts.column(children=[],sizing_mode='stretch_width')\n",
    "    main_layout.children.append(grid)  \n",
    "    button = bokeh.models.widgets.Button(label=\"Bokeh is working\", sizing_mode='stretch_width')\n",
    "    button.on_click(lambda: print(\"Bokeh on_click event is working\"))     \n",
    "    main_layout.children.append(button)\n",
    "    doc.add_root(main_layout)  \n",
    "\n",
    "ShowApp(TestBokehApp)"
   ]
  },
  {
   "cell_type": "markdown",
   "metadata": {},
   "source": [
    "# Import OpenVisus"
   ]
  },
  {
   "cell_type": "code",
   "execution_count": 2,
   "metadata": {},
   "outputs": [
    {
     "name": "stdout",
     "output_type": "stream",
     "text": [
      "OpenVisus imported\n"
     ]
    }
   ],
   "source": [
    "sys.path.append(r\"C:\\projects\\OpenVisus\\build\\RelWithDebInfo\")\n",
    "import OpenVisus as  ov\n",
    "from OpenVisus.dashboards import Slice,Slices\n",
    "os.environ[\"VISUS_NETSERVICE_VERBOSE\"]=\"0\"\n",
    "print(\"OpenVisus imported\")"
   ]
  },
  {
   "cell_type": "markdown",
   "metadata": {},
   "source": [
    "# Show single slice of a RGB 2D dataset (David)"
   ]
  },
  {
   "cell_type": "code",
   "execution_count": 3,
   "metadata": {
    "scrolled": false
   },
   "outputs": [
    {
     "data": {
      "application/vnd.bokehjs_exec.v0+json": "",
      "text/html": [
       "<script id=\"1004\">\n",
       "  (function() {\n",
       "    const xhr = new XMLHttpRequest()\n",
       "    xhr.responseType = 'blob';\n",
       "    xhr.open('GET', \"http://localhost:59727/autoload.js?bokeh-autoload-element=1004&bokeh-absolute-url=http://localhost:59727&resources=none\", true);\n",
       "    xhr.onload = function (event) {\n",
       "      const script = document.createElement('script');\n",
       "      const src = URL.createObjectURL(event.target.response);\n",
       "      script.src = src;\n",
       "      document.body.appendChild(script);\n",
       "    };\n",
       "    xhr.send();\n",
       "  })();\n",
       "</script>"
      ]
     },
     "metadata": {
      "application/vnd.bokehjs_exec.v0+json": {
       "server_id": "0230be81e9ed4ab4a559b1f5514478ab"
      }
     },
     "output_type": "display_data"
    }
   ],
   "source": [
    "def MyApp(doc, url=f\"http://atlantis.sci.utah.edu/mod_visus?dataset=david_subsampled&cached=1\"):\n",
    "    db=ov.LoadDataset(url)    \n",
    "    slice=Slice(doc,sizing_mode='stretch_width')\n",
    "    slice.show_options=[\"palette\",\"timestep\",\"field\",\"direction\",\"offset\"]\n",
    "    slice.setDataset(db)\n",
    "    slice.setDirection(2)\n",
    "    slice.setPalette(\"Greys256\", palette_range=(0,255))\n",
    "    slice.setTimestep(db.getTime())\n",
    "    slice.setField(db.getField().name)         \n",
    "    doc.add_root(slice.layout)\n",
    "ShowApp(MyApp)"
   ]
  },
  {
   "cell_type": "markdown",
   "metadata": {},
   "source": [
    "# Single single slice of a gray 3D dataset (2kbit1)"
   ]
  },
  {
   "cell_type": "code",
   "execution_count": 4,
   "metadata": {},
   "outputs": [
    {
     "data": {
      "application/vnd.bokehjs_exec.v0+json": "",
      "text/html": [
       "<script id=\"1005\">\n",
       "  (function() {\n",
       "    const xhr = new XMLHttpRequest()\n",
       "    xhr.responseType = 'blob';\n",
       "    xhr.open('GET', \"http://localhost:59729/autoload.js?bokeh-autoload-element=1005&bokeh-absolute-url=http://localhost:59729&resources=none\", true);\n",
       "    xhr.onload = function (event) {\n",
       "      const script = document.createElement('script');\n",
       "      const src = URL.createObjectURL(event.target.response);\n",
       "      script.src = src;\n",
       "      document.body.appendChild(script);\n",
       "    };\n",
       "    xhr.send();\n",
       "  })();\n",
       "</script>"
      ]
     },
     "metadata": {
      "application/vnd.bokehjs_exec.v0+json": {
       "server_id": "414fe23139ff4bca862ac02e0b96e070"
      }
     },
     "output_type": "display_data"
    }
   ],
   "source": [
    "def MyApp(doc, url=f\"http://atlantis.sci.utah.edu/mod_visus?dataset=2kbit1&cached=1\"):\n",
    "    db=ov.LoadDataset(url)    \n",
    "    slice=Slice(doc,sizing_mode='stretch_width')\n",
    "    slice.show_options=[\"palette\",\"field\",\"direction\",\"offset\"]\n",
    "    slice.setDataset(db)   \n",
    "    slice.setDirection(2)\n",
    "    slice.setPalette(\"Greys256\", palette_range=(0,255))\n",
    "    slice.setTimestep(db.getTime())\n",
    "    slice.setField(db.getField().name)         \n",
    "    doc.add_root(slice.layout)\n",
    "ShowApp(MyApp)"
   ]
  },
  {
   "cell_type": "markdown",
   "metadata": {},
   "source": [
    "# Show multiple slices of a RGB 2D dataset (David)"
   ]
  },
  {
   "cell_type": "code",
   "execution_count": 5,
   "metadata": {},
   "outputs": [
    {
     "data": {
      "application/vnd.bokehjs_exec.v0+json": "",
      "text/html": [
       "<script id=\"1006\">\n",
       "  (function() {\n",
       "    const xhr = new XMLHttpRequest()\n",
       "    xhr.responseType = 'blob';\n",
       "    xhr.open('GET', \"http://localhost:59731/autoload.js?bokeh-autoload-element=1006&bokeh-absolute-url=http://localhost:59731&resources=none\", true);\n",
       "    xhr.onload = function (event) {\n",
       "      const script = document.createElement('script');\n",
       "      const src = URL.createObjectURL(event.target.response);\n",
       "      script.src = src;\n",
       "      document.body.appendChild(script);\n",
       "    };\n",
       "    xhr.send();\n",
       "  })();\n",
       "</script>"
      ]
     },
     "metadata": {
      "application/vnd.bokehjs_exec.v0+json": {
       "server_id": "042837c20524424ebb9bc7a7a1a486df"
      }
     },
     "output_type": "display_data"
    }
   ],
   "source": [
    "def MyApp(doc,url=f\"http://atlantis.sci.utah.edu/mod_visus?dataset=david_subsampled&cached=1\"):\n",
    "    db=ov.LoadDataset(url) \n",
    "    slices=Slices(doc,sizing_mode='stretch_width')\n",
    "    slices.setDataset(db)\n",
    "    slices.setNumberOfViews(2)\n",
    "    slices.setPalette(\"Greys256\", palette_range=(0,255))\n",
    "    slices.setTimestep(db.getTime())\n",
    "    slices.setField(db.getField().name)         \n",
    "    doc.add_root(slices.layout)\n",
    "ShowApp(MyApp)"
   ]
  },
  {
   "cell_type": "markdown",
   "metadata": {},
   "source": [
    "# Show multiple slices of a grayscale 3D dataset (2kbit1)"
   ]
  },
  {
   "cell_type": "code",
   "execution_count": 6,
   "metadata": {},
   "outputs": [
    {
     "data": {
      "application/vnd.bokehjs_exec.v0+json": "",
      "text/html": [
       "<script id=\"1069\">\n",
       "  (function() {\n",
       "    const xhr = new XMLHttpRequest()\n",
       "    xhr.responseType = 'blob';\n",
       "    xhr.open('GET', \"http://localhost:59734/autoload.js?bokeh-autoload-element=1069&bokeh-absolute-url=http://localhost:59734&resources=none\", true);\n",
       "    xhr.onload = function (event) {\n",
       "      const script = document.createElement('script');\n",
       "      const src = URL.createObjectURL(event.target.response);\n",
       "      script.src = src;\n",
       "      document.body.appendChild(script);\n",
       "    };\n",
       "    xhr.send();\n",
       "  })();\n",
       "</script>"
      ]
     },
     "metadata": {
      "application/vnd.bokehjs_exec.v0+json": {
       "server_id": "3dde065a4bb845258135429950c3edb8"
      }
     },
     "output_type": "display_data"
    },
    {
     "name": "stderr",
     "output_type": "stream",
     "text": [
      "ERROR:bokeh.core.validation.check:E-1021 (EQUAL_SLIDER_START_END): Slider 'start' and 'end' cannot be equal: Slider(id='1281', ...) with title Offset\n",
      "ERROR:bokeh.core.validation.check:E-1021 (EQUAL_SLIDER_START_END): Slider 'start' and 'end' cannot be equal: Slider(id='1220', ...) with title Offset\n",
      "ERROR:bokeh.core.validation.check:E-1021 (EQUAL_SLIDER_START_END): Slider 'start' and 'end' cannot be equal: Slider(id='1391', ...) with title Offset\n",
      "ERROR:bokeh.core.validation.check:E-1021 (EQUAL_SLIDER_START_END): Slider 'start' and 'end' cannot be equal: Slider(id='1471', ...) with title Time\n",
      "ERROR:bokeh.core.validation.check:E-1021 (EQUAL_SLIDER_START_END): Slider 'start' and 'end' cannot be equal: Slider(id='1557', ...) with title Time\n"
     ]
    },
    {
     "name": "stdout",
     "output_type": "stream",
     "text": [
      "Bokeh on_click event is working\n",
      "Bokeh on_click event is working\n"
     ]
    }
   ],
   "source": [
    "def MyApp(doc,url=f\"http://atlantis.sci.utah.edu/mod_visus?dataset=2kbit1&cached=1\"):\n",
    "    db=ov.LoadDataset(url) \n",
    "    slices=Slices(doc,sizing_mode='stretch_width')\n",
    "    slices.setDataset(db)\n",
    "    slices.setNumberOfViews(2)\n",
    "    slices.setPalette(\"Greys256\", palette_range=(0,255))\n",
    "    slices.setTimestep(db.getTime())\n",
    "    slices.setField(db.getField().name)         \n",
    "    doc.add_root(slices.layout)\n",
    "ShowApp(MyApp)"
   ]
  },
  {
   "cell_type": "code",
   "execution_count": null,
   "metadata": {},
   "outputs": [],
   "source": []
  }
 ],
 "metadata": {
  "kernelspec": {
   "display_name": "Python 3 (ipykernel)",
   "language": "python",
   "name": "python3"
  },
  "language_info": {
   "codemirror_mode": {
    "name": "ipython",
    "version": 3
   },
   "file_extension": ".py",
   "mimetype": "text/x-python",
   "name": "python",
   "nbconvert_exporter": "python",
   "pygments_lexer": "ipython3",
   "version": "3.9.9"
  },
  "vscode": {
   "interpreter": {
    "hash": "81794d4967e6c3204c66dcd87b604927b115b27c00565d3d43f05ba2f3a2cb0d"
   }
  }
 },
 "nbformat": 4,
 "nbformat_minor": 4
}

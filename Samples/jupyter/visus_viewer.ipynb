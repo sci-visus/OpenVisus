{
 "cells": [
  {
   "cell_type": "code",
   "execution_count": 1,
   "id": "fb3cf91a",
   "metadata": {},
   "outputs": [
    {
     "name": "stdout",
     "output_type": "stream",
     "text": [
      "['PyQt5', 'PyQt5.sip', 'PyQt5.QtCore', 'PyQt5.QtGui', 'PyQt5.QtWidgets']\n",
      "Starting OpenVisus C:\\projects\\OpenVisus\\build\\RelWithDebInfo\\OpenVisus\\__init__.py 3.8.6 (tags/v3.8.6:db45529, Sep 23 2020, 15:52:53) [MSC v.1927 64 bit (AMD64)] sys.version_info(major=3, minor=8, micro=6, releaselevel='final', serial=0) ...\n",
      "QT_PLUGIN_PATH c:\\python38\\lib\\site-packages\\PyQt5\\Qt/plugins\n"
     ]
    }
   ],
   "source": [
    "import os,sys,pickle,random,threading,time\n",
    "import platform,subprocess,glob,datetime\n",
    "import numpy as np\n",
    "import cv2\n",
    "from PyQt5 import QtCore\n",
    "from PyQt5 import QtWidgets\n",
    "\n",
    "# this is needed to run the Qt5 loop in the background \n",
    "# see http://localhost:8888/notebooks/VisibleMale.ipynb#\n",
    "%gui qt\n",
    "%matplotlib qt\n",
    "print([it for it in sys.modules.keys() if \"pyqt\" in it.lower()])\n",
    "\n",
    "# hardcoded path (CHANGE AS NEEDED)\n",
    "sys.path.append(r\"C:\\projects\\OpenVisus\\build\\RelWithDebInfo\")\n",
    "\n",
    "from OpenVisus                        import *\n",
    "from OpenVisus.gui                    import *\n",
    "from OpenVisus.image_utils            import *"
   ]
  },
  {
   "cell_type": "code",
   "execution_count": 2,
   "id": "19354731",
   "metadata": {},
   "outputs": [],
   "source": [
    "# do not change this cell for very good reasons (otherwise Qt5 loop won't work)\n",
    "import time\n",
    "time.sleep(2)"
   ]
  },
  {
   "cell_type": "markdown",
   "id": "75cb92eb",
   "metadata": {},
   "source": [
    "# Example: open a dataset or a scene"
   ]
  },
  {
   "cell_type": "code",
   "execution_count": 3,
   "id": "d70ed4d2",
   "metadata": {},
   "outputs": [
    {
     "name": "stdout",
     "output_type": "stream",
     "text": [
      "2021-10-16 18:45:47.204576 PyScriptingNode Got in input (128, 128, 256) uint8 origin Volume \n",
      "2021-10-16 18:45:47.210579 PyScriptingNode Output is  (128, 128, 256) uint8 msec 5 \n"
     ]
    }
   ],
   "source": [
    "# NOTE: no need to run the viewer (QT main loop is already running in the background)\n",
    "scene_filename=r\"D:\\GoogleSci\\visus_dataset\\2kbit1\\zip\\rowmajor\\visus.idx\"\n",
    "viewer=PyViewer()\n",
    "viewer.open(scene_filename)\n",
    "viewer.showMaximized()"
   ]
  },
  {
   "cell_type": "markdown",
   "id": "5ef2e155",
   "metadata": {},
   "source": [
    "# Utilities to run actions in the background"
   ]
  },
  {
   "cell_type": "code",
   "execution_count": 266,
   "id": "f17ed72a",
   "metadata": {},
   "outputs": [],
   "source": [
    "# //////////////////////////////////////////////////////////////\n",
    "class RunActions:\n",
    "    \n",
    "    def __init__(self):\n",
    "        self.actions=[]\n",
    "        self.cursor=0\n",
    "        self.timer=QtCore.QTimer()\n",
    "        self.timer.timeout.connect(self.onTimer)\n",
    "        \n",
    "    def append(self, msec, fn,**kwargs):\n",
    "        self.actions.append([msec,lambda : fn(**kwargs)])\n",
    "        \n",
    "    def onTimer(self):\n",
    "        fn=self.actions[self.cursor][1]\n",
    "        fn()\n",
    "        self.cursor+=1\n",
    "        self.timer.stop()\n",
    "        if self.cursor<len(self.actions): \n",
    "            msec=self.actions[self.cursor][0]\n",
    "            self.timer.start(msec) \n",
    "            \n",
    "    def start(self):\n",
    "        if self.actions:\n",
    "            msec=self.actions[0][0]\n",
    "            self.timer.start(msec)      \n",
    "        \n",
    "    def stop(self):\n",
    "        self.timer.stop()\n",
    "        \n",
    "def RotateScene(axis=(0,0,1),angle=10):\n",
    "    print(\"RotateScene\",axis,angle)\n",
    "    glcamera=viewer.getGLCamera()\n",
    "    viewer.getGLCamera().setRotation(glcamera.getRotation() * Quaternion(Point3d(axis),math.radians(angle)))\n",
    "    viewer.refreshAll()\n",
    "    viewer.postRedisplay()\n",
    "    \n",
    "def TakeSnapshot(filename=\"temp.png\",):\n",
    "    print(\"TakeSnapshotAction\",filename)  \n",
    "    if False:\n",
    "        viewer.takeSnapshot(False,filename) \n",
    "    else:\n",
    "        viewer_py=sip.wrapinstance(FromCppQtWidget(viewer.c_ptr()), QMainWindow)\n",
    "        screenshot = QtWidgets.QApplication.primaryScreen().grabWindow(viewer_py.winId() )\n",
    "        screenshot.save(filename)\n",
    "    \n",
    "def OpenScene(filename=\"\"):\n",
    "    print(\"OpenScene\",filename)\n",
    "    viewer.open(filename)\n",
    "    \n",
    "def CreateViewer():\n",
    "    viewer=PyViewer()\n",
    "    viewer_py=sip.wrapinstance(FromCppQtWidget(viewer.c_ptr()), QMainWindow)\n",
    "    viewer_py.setVisible(True)\n",
    "    viewer_py.show()\n",
    "    viewer_py.setFocus()\n",
    "    viewer_py.showMaximized()\n",
    "    viewer_py.activateWindow()\n",
    "    return viewer"
   ]
  },
  {
   "cell_type": "markdown",
   "id": "fed65eb5",
   "metadata": {},
   "source": [
    "# Open a dataset and rotate the scene"
   ]
  },
  {
   "cell_type": "code",
   "execution_count": 268,
   "id": "2b0035d4",
   "metadata": {},
   "outputs": [],
   "source": [
    "# important to create the viewer in a different cell otherwise it won't get the focus\n",
    "viewer=CreateViewer()"
   ]
  },
  {
   "cell_type": "code",
   "execution_count": 270,
   "id": "04f0bd90",
   "metadata": {},
   "outputs": [
    {
     "name": "stdout",
     "output_type": "stream",
     "text": [
      "2021-06-01 14:09:50.591926 PyScriptingNode Output is  (128, 128, 256) uint8 msec 2 \n",
      "RotateScene (0, 0, 1) 10\n",
      "TakeSnapshotAction D:\\bbb-0000.png\n",
      "2021-06-01 14:10:01.148585 PyScriptingNode Got in input (128, 128, 256) uint8 origin Volume \n",
      "2021-06-01 14:10:01.150573 PyScriptingNode Output is  (128, 128, 256) uint8 msec 2 \n",
      "2021-06-01 14:10:01.180585 PyScriptingNode Got in input (128, 128, 256) uint8 origin Volume \n",
      "2021-06-01 14:10:01.182585 PyScriptingNode Output is  (128, 128, 256) uint8 msec 2 \n",
      "RotateScene (0, 0, 1) 10\n",
      "TakeSnapshotAction D:\\bbb-0001.png\n",
      "2021-06-01 14:10:01.483586 PyScriptingNode Got in input (64, 64, 128) uint8 origin Volume \n",
      "2021-06-01 14:10:01.485573 PyScriptingNode Output is  (64, 64, 128) uint8 msec 2 \n",
      "2021-06-01 14:10:01.548572 PyScriptingNode Got in input (128, 256, 256) uint8 origin Volume \n",
      "2021-06-01 14:10:01.550578 PyScriptingNode Output is  (128, 256, 256) uint8 msec 1 \n",
      "RotateScene (0, 0, 1) 10\n",
      "TakeSnapshotAction D:\\bbb-0002.png\n",
      "2021-06-01 14:10:01.801666 PyScriptingNode Got in input (128, 128, 256) uint8 origin Volume \n",
      "2021-06-01 14:10:01.803677 PyScriptingNode Output is  (128, 128, 256) uint8 msec 2 \n",
      "2021-06-01 14:10:01.865701 PyScriptingNode Got in input (128, 256, 256) uint8 origin Volume \n",
      "2021-06-01 14:10:01.866689 PyScriptingNode Output is  (128, 256, 256) uint8 msec 1 \n",
      "RotateScene (0, 0, 1) 10\n",
      "TakeSnapshotAction D:\\bbb-0003.png\n",
      "2021-06-01 14:10:02.116439 PyScriptingNode Got in input (128, 128, 256) uint8 origin Volume \n",
      "2021-06-01 14:10:02.117449 PyScriptingNode Output is  (128, 128, 256) uint8 msec 2 \n",
      "2021-06-01 14:10:02.178990 PyScriptingNode Got in input (128, 256, 256) uint8 origin Volume \n",
      "2021-06-01 14:10:02.179992 PyScriptingNode Output is  (128, 256, 256) uint8 msec 1 \n",
      "RotateScene (0, 0, 1) 10\n",
      "TakeSnapshotAction D:\\bbb-0004.png\n",
      "2021-06-01 14:10:02.429800 PyScriptingNode Got in input (128, 128, 256) uint8 origin Volume \n",
      "2021-06-01 14:10:02.431809 PyScriptingNode Output is  (128, 128, 256) uint8 msec 1 \n",
      "2021-06-01 14:10:02.489873 PyScriptingNode Got in input (128, 256, 256) uint8 origin Volume \n",
      "2021-06-01 14:10:02.491873 PyScriptingNode Output is  (128, 256, 256) uint8 msec 2 \n",
      "RotateScene (0, 0, 1) 10\n",
      "TakeSnapshotAction D:\\bbb-0005.png\n",
      "2021-06-01 14:10:02.739605 PyScriptingNode Got in input (128, 128, 256) uint8 origin Volume \n",
      "2021-06-01 14:10:02.740604 PyScriptingNode Output is  (128, 128, 256) uint8 msec 2 \n",
      "2021-06-01 14:10:02.800605 PyScriptingNode Got in input (128, 256, 256) uint8 origin Volume \n",
      "2021-06-01 14:10:02.802604 PyScriptingNode Output is  (128, 256, 256) uint8 msec 1 \n",
      "RotateScene (0, 0, 1) 10\n",
      "TakeSnapshotAction D:\\bbb-0006.png\n",
      "2021-06-01 14:10:03.048612 PyScriptingNode Got in input (64, 64, 128) uint8 origin Volume \n",
      "2021-06-01 14:10:03.050605 PyScriptingNode Output is  (64, 64, 128) uint8 msec 2 \n",
      "2021-06-01 14:10:03.109604 PyScriptingNode Got in input (128, 256, 256) uint8 origin Volume \n",
      "2021-06-01 14:10:03.111606 PyScriptingNode Output is  (128, 256, 256) uint8 msec 2 \n",
      "RotateScene (0, 0, 1) 10\n",
      "TakeSnapshotAction D:\\bbb-0007.png\n",
      "2021-06-01 14:10:03.365607 PyScriptingNode Got in input (64, 64, 128) uint8 origin Volume \n",
      "2021-06-01 14:10:03.367604 PyScriptingNode Output is  (64, 64, 128) uint8 msec 1 \n",
      "2021-06-01 14:10:03.426605 PyScriptingNode Got in input (128, 128, 256) uint8 origin Volume \n",
      "2021-06-01 14:10:03.428606 PyScriptingNode Output is  (128, 128, 256) uint8 msec 2 \n",
      "RotateScene (0, 0, 1) 10\n",
      "TakeSnapshotAction D:\\bbb-0008.png\n",
      "2021-06-01 14:10:03.680605 PyScriptingNode Got in input (64, 64, 128) uint8 origin Volume \n",
      "2021-06-01 14:10:03.681607 PyScriptingNode Output is  (64, 64, 128) uint8 msec 2 \n",
      "2021-06-01 14:10:03.746605 PyScriptingNode Got in input (128, 128, 256) uint8 origin Volume \n",
      "2021-06-01 14:10:03.748606 PyScriptingNode Output is  (128, 128, 256) uint8 msec 2 \n",
      "RotateScene (0, 0, 1) 10\n",
      "TakeSnapshotAction D:\\bbb-0009.png\n",
      "2021-06-01 14:10:04.048617 PyScriptingNode Got in input (128, 128, 256) uint8 origin Volume \n"
     ]
    }
   ],
   "source": [
    "viewer.open(r\"D:\\GoogleSci\\visus_dataset\\2kbit1\\zip\\rowmajor\\visus.idx\")\n",
    "\n",
    "# no selection\n",
    "viewer.dropSelection()\n",
    "\n",
    "# **** make sure that the dataset node has UUID `dataset` (you can save an xml and inspect it) ***\n",
    "dataset_node=DatasetNode.castFrom(viewer.findNodeByUUID(\"dataset\"))\n",
    "dataset_node.setShowBounds(False)\n",
    "\n",
    "# run actions inside a PyQt5 timer (otherwise they won't work)\n",
    "actions=RunActions()\n",
    "for I in range(10):\n",
    "    actions.append(200,RotateScene,axis=(0,0,1),angle=10)\n",
    "    actions.append(  0,TakeSnapshot,filename=r\"D:\\bbb-{:04d}.png\".format(I))\n",
    "    \n",
    "actions.start()"
   ]
  },
  {
   "cell_type": "markdown",
   "id": "d9d4d4ca",
   "metadata": {},
   "source": [
    "# Open Viewer snapshots and play them"
   ]
  },
  {
   "cell_type": "code",
   "execution_count": 271,
   "id": "a53fc642",
   "metadata": {},
   "outputs": [
    {
     "name": "stdout",
     "output_type": "stream",
     "text": [
      "2021-06-01 14:10:04.049606 PyScriptingNode Output is  (128, 128, 256) uint8 msec 2 \n"
     ]
    }
   ],
   "source": [
    "# important to create the viewer in a different cell otherwise it won't get the focus\n",
    "viewer=CreateViewer()"
   ]
  },
  {
   "cell_type": "code",
   "execution_count": 272,
   "id": "a8396bf9",
   "metadata": {},
   "outputs": [
    {
     "name": "stdout",
     "output_type": "stream",
     "text": [
      "\t 0 C:\\projects\\OpenVisus\\Samples\\jupyter\\honeycomb-demo1\\visusviewer.snapshot.20210531145607684.xml\n",
      "\t 1 C:\\projects\\OpenVisus\\Samples\\jupyter\\honeycomb-demo1\\visusviewer.snapshot.20210531145641394.xml\n",
      "\t 2 C:\\projects\\OpenVisus\\Samples\\jupyter\\honeycomb-demo1\\visusviewer.snapshot.20210531145646426.xml\n",
      "\t 3 C:\\projects\\OpenVisus\\Samples\\jupyter\\honeycomb-demo1\\visusviewer.snapshot.20210531145715830.xml\n",
      "\t 4 C:\\projects\\OpenVisus\\Samples\\jupyter\\honeycomb-demo1\\visusviewer.snapshot.20210531145847913.xml\n",
      "OpenScene C:\\projects\\OpenVisus\\Samples\\jupyter\\honeycomb-demo1\\visusviewer.snapshot.20210531145607684.xml\n",
      "TakeSnapshotAction D:\\aaa-0000.png\n",
      "2021-06-01 14:10:20.408598 PyScriptingNode Got in input (347, 98, 704) float32 origin Volume \n",
      "2021-06-01 14:10:20.410600 PyScriptingNode Output is  (347, 98, 704) float32 msec 2 \n",
      "OpenScene C:\\projects\\OpenVisus\\Samples\\jupyter\\honeycomb-demo1\\visusviewer.snapshot.20210531145641394.xml\n",
      "TakeSnapshotAction D:\\aaa-0001.png\n",
      "2021-06-01 14:10:20.978601 PyScriptingNode Got in input (302, 98, 352) float32 origin Volume \n",
      "2021-06-01 14:10:20.980600 PyScriptingNode Output is  (302, 98, 352) float32 msec 2 \n",
      "2021-06-01 14:10:21.106598 PyScriptingNode Got in input (604, 195, 704) float32 origin Volume \n",
      "2021-06-01 14:10:21.107599 PyScriptingNode Output is  (604, 195, 704) float32 msec 2 \n",
      "OpenScene C:\\projects\\OpenVisus\\Samples\\jupyter\\honeycomb-demo1\\visusviewer.snapshot.20210531145646426.xml\n",
      "TakeSnapshotAction D:\\aaa-0002.png\n",
      "2021-06-01 14:10:21.438601 PyScriptingNode Got in input (302, 98, 176) float32 origin Volume \n",
      "2021-06-01 14:10:21.441603 PyScriptingNode Output is  (302, 98, 176) float32 msec 2 \n",
      "2021-06-01 14:10:21.503598 PyScriptingNode Got in input (604, 195, 352) float32 origin Volume \n",
      "2021-06-01 14:10:21.505597 PyScriptingNode Output is  (604, 195, 352) float32 msec 2 \n",
      "OpenScene C:\\projects\\OpenVisus\\Samples\\jupyter\\honeycomb-demo1\\visusviewer.snapshot.20210531145715830.xml\n",
      "TakeSnapshotAction D:\\aaa-0003.png\n",
      "OpenScene C:\\projects\\OpenVisus\\Samples\\jupyter\\honeycomb-demo1\\visusviewer.snapshot.20210531145847913.xml\n",
      "TakeSnapshotAction D:\\aaa-0004.png\n",
      "2021-06-01 14:10:22.472381 PyScriptingNode Got in input (1, 121, 124) float32 origin Slice \n",
      "2021-06-01 14:10:22.473379 PyScriptingNode Output is  (1, 121, 124) float32 msec 2 \n",
      "2021-06-01 14:10:22.535393 PyScriptingNode Got in input (1, 242, 248) float32 origin Slice \n",
      "2021-06-01 14:10:22.537394 PyScriptingNode Output is  (1, 242, 248) float32 msec 2 \n",
      "2021-06-01 14:10:22.663393 PyScriptingNode Got in input (1, 484, 497) float32 origin Slice \n",
      "2021-06-01 14:10:22.665379 PyScriptingNode Output is  (1, 484, 497) float32 msec 1 \n",
      "2021-06-01 14:10:22.666380 PyScriptingNode Got in input (1042, 344, 608) float32 origin Volume \n",
      "2021-06-01 14:10:22.667379 PyScriptingNode Output is  (1042, 344, 608) float32 msec 2 \n",
      "2021-06-01 14:10:23.865380 PyScriptingNode Got in input (1, 968, 995) float32 origin Slice \n",
      "2021-06-01 14:10:23.867393 PyScriptingNode Output is  (1, 968, 995) float32 msec 2 \n",
      "2021-06-01 14:10:25.233393 PyScriptingNode Got in input (1, 1245, 1991) float32 origin Slice \n",
      "2021-06-01 14:10:25.234381 PyScriptingNode Output is  (1, 1245, 1991) float32 msec 2 \n"
     ]
    }
   ],
   "source": [
    "snapshots=sorted(glob.glob(r\"C:\\projects\\OpenVisus\\Samples\\jupyter\\honeycomb-demo1\\visusviewer.snapshot*xml\"))\n",
    "snapshots=snapshots[:5] \n",
    "\n",
    "actions=RunActions()\n",
    "for I,snapshot in enumerate(snapshots):\n",
    "    print(\"\\t\",I,snapshot)\n",
    "    actions.append(200,OpenScene,filename=snapshot)\n",
    "    actions.append(  0,TakeSnapshot,filename=r\"D:\\aaa-{:04d}.png\".format(I))\n",
    "actions.start()"
   ]
  },
  {
   "cell_type": "code",
   "execution_count": null,
   "id": "b08af19f",
   "metadata": {},
   "outputs": [],
   "source": []
  },
  {
   "cell_type": "code",
   "execution_count": null,
   "id": "2bcf371f",
   "metadata": {},
   "outputs": [],
   "source": []
  }
 ],
 "metadata": {
  "kernelspec": {
   "display_name": "Python 3",
   "language": "python",
   "name": "python3"
  },
  "language_info": {
   "codemirror_mode": {
    "name": "ipython",
    "version": 3
   },
   "file_extension": ".py",
   "mimetype": "text/x-python",
   "name": "python",
   "nbconvert_exporter": "python",
   "pygments_lexer": "ipython3",
   "version": "3.8.6"
  }
 },
 "nbformat": 4,
 "nbformat_minor": 5
}
